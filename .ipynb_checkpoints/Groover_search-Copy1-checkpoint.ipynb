{
 "cells": [
  {
   "cell_type": "code",
   "execution_count": 5,
   "metadata": {},
   "outputs": [],
   "source": [
    "import numpy as np\n",
    "import copy\n",
    "import itertools\n",
    "from scipy import linalg as sLA\n",
    "from numpy import linalg as LA\n",
    "import time\n",
    "from numba import njit\n",
    "from numba import jit\n",
    "\n",
    "\n",
    "\n",
    "\n",
    "from Gates import *\n",
    "from functions import *\n",
    "from state import *"
   ]
  },
  {
   "cell_type": "code",
   "execution_count": 128,
   "metadata": {},
   "outputs": [],
   "source": [
    "def grover_block(State, N = 2, n_list = [0]):\n",
    "    \n",
    "    apply_oracle(State, N = N, n_list = n_list)\n",
    "    \n",
    "    for i in range(N):\n",
    "        State.apply_U(U = H(), axis = [i])\n",
    "        \n",
    "    for i in range(N):\n",
    "        State.apply_U(U = X(), axis = [i])\n",
    "        \n",
    "    State.apply_U(U = H(), axis = [N-1])\n",
    "    \n",
    "    State.apply_long_Toffoli(axis = list(range(N)))\n",
    "    \n",
    "    State.apply_U(U = H(), axis = [N-1])\n",
    "        \n",
    "    for i in range(N):\n",
    "        State.apply_U(U = X(), axis = [i])\n",
    "        \n",
    "    for i in range(N):\n",
    "        State.apply_U(U = H(), axis = [i])\n",
    "        \n",
    "    \n",
    "\n",
    "def Grover_search(N = 2, n_list = [0]):\n",
    "    State = Qpsi(N+1)\n",
    "    State.build_zero_state()\n",
    "    \n",
    "    State.apply_U(U = X(), axis = [N])\n",
    "    \n",
    "    for i in range (N+1):\n",
    "        State.apply_U(U = H(), axis = [i])\n",
    "        \n",
    "    \n",
    "    i = 1\n",
    "    while i < (np.pi/4*np.sqrt(2**(N)/len(n_list))):\n",
    "        print(i)\n",
    "        grover_block(State, N = N, n_list = n_list)\n",
    "        i+=1\n",
    "        \n",
    "\n",
    "\n",
    "    \n",
    "        \n",
    "    State.apply_U(U = H(), axis = [N])\n",
    "    \n",
    "    \n",
    "        \n",
    "    return State.get_coefs()"
   ]
  },
  {
   "cell_type": "code",
   "execution_count": 129,
   "metadata": {},
   "outputs": [],
   "source": [
    "def apply_oracle(State, n_list = [0], N = 2):\n",
    "    \n",
    "    \n",
    "    for n in n_list:\n",
    "        \n",
    "        mask = list(map(int, list(reversed(bin(2**N-1-n)[2:]))))\n",
    "        mask.extend([0]*(N-len(mask)))\n",
    "        mask = list(map(bool, mask))\n",
    "        axis_list = np.array(list(range(N)))\n",
    "        axis_list = axis_list[mask]\n",
    "\n",
    "\n",
    "        if len(axis_list) > 0:\n",
    "            for a in axis_list:\n",
    "                State.apply_U(U = X(), axis = [a])\n",
    "\n",
    "        State.apply_long_Toffoli(axis = list(range(N+1)))\n",
    "\n",
    "        if len(axis_list) > 0:\n",
    "            for a in axis_list:\n",
    "                State.apply_U(U = X(), axis = [a])\n",
    "\n",
    "\n",
    "    \n",
    "        "
   ]
  },
  {
   "cell_type": "code",
   "execution_count": 137,
   "metadata": {},
   "outputs": [
    {
     "name": "stdout",
     "output_type": "stream",
     "text": [
      "1\n",
      "2\n",
      "3\n",
      "4\n"
     ]
    }
   ],
   "source": [
    "vec = Grover_search(N = 5, n_list = [31])"
   ]
  },
  {
   "cell_type": "code",
   "execution_count": 131,
   "metadata": {},
   "outputs": [
    {
     "name": "stdout",
     "output_type": "stream",
     "text": [
      "1\n",
      "2\n",
      "3\n",
      "4\n"
     ]
    },
    {
     "data": {
      "text/plain": [
       "(array([0.00000000e+00, 0.00000000e+00, 0.00000000e+00, 0.00000000e+00,\n",
       "        0.00000000e+00, 0.00000000e+00, 0.00000000e+00, 0.00000000e+00,\n",
       "        0.00000000e+00, 0.00000000e+00, 0.00000000e+00, 0.00000000e+00,\n",
       "        0.00000000e+00, 0.00000000e+00, 0.00000000e+00, 0.00000000e+00,\n",
       "        0.00000000e+00, 0.00000000e+00, 0.00000000e+00, 0.00000000e+00,\n",
       "        0.00000000e+00, 0.00000000e+00, 0.00000000e+00, 0.00000000e+00,\n",
       "        0.00000000e+00, 0.00000000e+00, 0.00000000e+00, 0.00000000e+00,\n",
       "        0.00000000e+00, 0.00000000e+00, 0.00000000e+00, 0.00000000e+00,\n",
       "        0.00000000e+00, 2.63769180e-05, 2.63769180e-05, 2.63769180e-05,\n",
       "        2.63769180e-05, 2.63769180e-05, 2.63769180e-05, 2.63769180e-05,\n",
       "        2.63769180e-05, 2.63769180e-05, 2.63769180e-05, 2.63769180e-05,\n",
       "        2.63769180e-05, 2.63769180e-05, 2.63769180e-05, 2.63769180e-05,\n",
       "        2.63769180e-05, 2.63769180e-05, 2.63769180e-05, 2.63769180e-05,\n",
       "        2.63769180e-05, 2.63769180e-05, 2.63769180e-05, 2.63769180e-05,\n",
       "        2.63769180e-05, 2.63769180e-05, 2.63769180e-05, 2.63769180e-05,\n",
       "        2.63769180e-05, 2.63769180e-05, 2.63769180e-05, 9.99182316e-01]),\n",
       " array([0.00000000e+00+0.00000000e+00j, 0.00000000e+00+0.00000000e+00j,\n",
       "        0.00000000e+00+0.00000000e+00j, 0.00000000e+00+0.00000000e+00j,\n",
       "        0.00000000e+00+0.00000000e+00j, 0.00000000e+00+0.00000000e+00j,\n",
       "        0.00000000e+00+0.00000000e+00j, 0.00000000e+00+0.00000000e+00j,\n",
       "        0.00000000e+00+0.00000000e+00j, 0.00000000e+00+0.00000000e+00j,\n",
       "        0.00000000e+00+0.00000000e+00j, 0.00000000e+00+0.00000000e+00j,\n",
       "        0.00000000e+00+0.00000000e+00j, 0.00000000e+00+0.00000000e+00j,\n",
       "        0.00000000e+00+0.00000000e+00j, 0.00000000e+00+0.00000000e+00j,\n",
       "        0.00000000e+00+0.00000000e+00j, 0.00000000e+00+0.00000000e+00j,\n",
       "        0.00000000e+00+0.00000000e+00j, 0.00000000e+00+0.00000000e+00j,\n",
       "        0.00000000e+00+0.00000000e+00j, 0.00000000e+00+0.00000000e+00j,\n",
       "        0.00000000e+00+0.00000000e+00j, 0.00000000e+00+0.00000000e+00j,\n",
       "        0.00000000e+00+0.00000000e+00j, 0.00000000e+00+0.00000000e+00j,\n",
       "        0.00000000e+00+0.00000000e+00j, 0.00000000e+00+0.00000000e+00j,\n",
       "        0.00000000e+00+0.00000000e+00j, 0.00000000e+00+0.00000000e+00j,\n",
       "        0.00000000e+00+0.00000000e+00j, 0.00000000e+00+0.00000000e+00j,\n",
       "        2.63769180e-05-4.40986528e-20j, 2.63769180e-05-4.40986528e-20j,\n",
       "        2.63769180e-05-4.40986528e-20j, 2.63769180e-05-4.40986528e-20j,\n",
       "        2.63769180e-05-4.40986528e-20j, 2.63769180e-05-4.40986528e-20j,\n",
       "        2.63769180e-05-4.40986528e-20j, 2.63769180e-05-4.40986528e-20j,\n",
       "        2.63769180e-05-4.40986528e-20j, 2.63769180e-05-4.40986528e-20j,\n",
       "        2.63769180e-05-4.40986528e-20j, 2.63769180e-05-4.40986528e-20j,\n",
       "        2.63769180e-05-4.40986528e-20j, 2.63769180e-05-4.40986528e-20j,\n",
       "        2.63769180e-05-4.40986528e-20j, 2.63769180e-05-4.40986528e-20j,\n",
       "        2.63769180e-05-2.01593841e-19j, 2.63769180e-05-2.01593841e-19j,\n",
       "        2.63769180e-05-2.01593841e-19j, 2.63769180e-05-2.01593841e-19j,\n",
       "        2.63769180e-05-1.00796921e-19j, 2.63769180e-05-1.00796921e-19j,\n",
       "        2.63769180e-05-1.00796921e-19j, 2.63769180e-05-1.00796921e-19j,\n",
       "        2.63769180e-05-8.39302966e-36j, 2.63769180e-05+5.59535311e-36j,\n",
       "        2.63769180e-05-1.39883828e-35j, 2.63769180e-05-1.67860593e-35j,\n",
       "        2.63769180e-05+7.05578445e-19j, 2.63769180e-05+7.05578445e-19j,\n",
       "        2.63769180e-05+7.05578445e-19j, 9.99182316e-01-1.37326911e-16j]))"
      ]
     },
     "execution_count": 131,
     "metadata": {},
     "output_type": "execute_result"
    }
   ],
   "source": [
    "def out_vec(N, k, sol_vec):\n",
    "    \n",
    "    M = len(sol_vec)\n",
    "    sol_vec = np.array(sol_vec)\n",
    "    sol_vec = 2**N-sol_vec\n",
    "    vec = np.zeros(2**(N+1))\n",
    "    for i in range(1,2**(N)):\n",
    "        if i in set(sol_vec):\n",
    "            vec[-i] = 1/np.sqrt(M)*np.sin((2*k + 1)  * np.arccos(np.sqrt((2**N-M)/2**N)))\n",
    "        else:\n",
    "            vec[-i] = 1/np.sqrt(2**N - M)*np.cos((2*k + 1)  * np.arccos(np.sqrt((2**N-M)/2**N)))\n",
    "    \n",
    "    return vec**2\n",
    "\n",
    "vec = Grover_search(N = 5, n_list = [31])\n",
    "vec_a = out_vec(N = 5, k = 4, sol_vec = [31])\n",
    "vec_a, np.array(vec)**2"
   ]
  },
  {
   "cell_type": "code",
   "execution_count": 133,
   "metadata": {},
   "outputs": [
    {
     "name": "stdout",
     "output_type": "stream",
     "text": [
      "1\n"
     ]
    },
    {
     "data": {
      "text/plain": [
       "(array([0.00000000e+00, 0.00000000e+00, 0.00000000e+00, 0.00000000e+00,\n",
       "        0.00000000e+00, 0.00000000e+00, 0.00000000e+00, 0.00000000e+00,\n",
       "        0.00000000e+00, 4.31009743e-33, 4.31009743e-33, 4.31009743e-33,\n",
       "        4.31009743e-33, 4.31009743e-33, 5.00000000e-01, 5.00000000e-01]),\n",
       " array([ 0.00000000e+00+0.00000000e+00j,  0.00000000e+00+0.00000000e+00j,\n",
       "         0.00000000e+00+0.00000000e+00j,  0.00000000e+00+0.00000000e+00j,\n",
       "         0.00000000e+00+0.00000000e+00j,  0.00000000e+00+0.00000000e+00j,\n",
       "         0.00000000e+00+0.00000000e+00j,  0.00000000e+00+0.00000000e+00j,\n",
       "         6.84227766e-49-1.54074396e-33j, -7.70371978e-34+0.00000000e+00j,\n",
       "         5.19434144e-33-4.88658174e-33j, -7.50545737e-33+0.00000000e+00j,\n",
       "         1.88741135e-32+5.44735250e-33j,  2.69630192e-33+2.17894100e-33j,\n",
       "         5.00000000e-01-3.46944695e-16j,  5.00000000e-01-4.16333634e-17j]))"
      ]
     },
     "execution_count": 133,
     "metadata": {},
     "output_type": "execute_result"
    }
   ],
   "source": [
    "vec = Grover_search(N = 3, n_list = [7,6])\n",
    "vec_a = out_vec(N = 3, k = 1, sol_vec = [7,6])\n",
    "(vec_a - np.array(vec)**2)"
   ]
  },
  {
   "cell_type": "code",
   "execution_count": null,
   "metadata": {},
   "outputs": [],
   "source": []
  }
 ],
 "metadata": {
  "kernelspec": {
   "display_name": "Python 3",
   "language": "python",
   "name": "python3"
  },
  "language_info": {
   "codemirror_mode": {
    "name": "ipython",
    "version": 3
   },
   "file_extension": ".py",
   "mimetype": "text/x-python",
   "name": "python",
   "nbconvert_exporter": "python",
   "pygments_lexer": "ipython3",
   "version": "3.7.6"
  }
 },
 "nbformat": 4,
 "nbformat_minor": 4
}
