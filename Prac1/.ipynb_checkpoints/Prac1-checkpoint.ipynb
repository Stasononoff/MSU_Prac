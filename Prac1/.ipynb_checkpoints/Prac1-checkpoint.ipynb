{
 "cells": [
  {
   "cell_type": "code",
   "execution_count": 1,
   "metadata": {},
   "outputs": [],
   "source": [
    "import numpy as np\n",
    "from matplotlib import pyplot as plt\n",
    "from numpy import linalg as LA"
   ]
  },
  {
   "cell_type": "markdown",
   "metadata": {},
   "source": [
    "# 1.1 Матрица плотности подпространства квантовой системы"
   ]
  },
  {
   "cell_type": "code",
   "execution_count": 2,
   "metadata": {},
   "outputs": [],
   "source": [
    "# get_rho - функция для задачи матрицы плотности рандомной квантовой системы размерности (d,k) и \n",
    "# вычисленя матрицы плотности подсистемы заданной квантовой системы размерноси d\n",
    "\n",
    "# get_ly_pure - вычисляет собственные значения матрицы плотности, а так же чистоту.\n",
    "\n",
    "def get_rho(d,k):\n",
    "    C_list = np.random.normal(0, 1, size=(d, k)) + 1j*np.random.normal(0, 1, size=(d, k))\n",
    "    C_list = C_list/(np.sqrt(np.sum(C_list*np.conjugate(C_list))))\n",
    "    C_list = np.reshape(C_list, [1,d,k,1])\n",
    "    g_rho = np.tensordot(C_list, np.conjugate(C_list), [0,3])\n",
    "    g_rho = np.reshape(g_rho, (d,k,d,k))\n",
    "    rho = np.trace(g_rho, axis1=1, axis2=3)\n",
    "    return rho\n",
    "\n",
    "def get_ly_pure(rho,d,k):\n",
    "    ly = np.linalg.eigvals(rho) \n",
    "    purity = np.trace(np.dot(rho, rho))\n",
    "    return ly, purity"
   ]
  },
  {
   "cell_type": "markdown",
   "metadata": {},
   "source": [
    "Зададим 1000 случайных квантовых систем и расчиитаем статистику получанных частот и собственных значений"
   ]
  },
  {
   "cell_type": "code",
   "execution_count": 26,
   "metadata": {},
   "outputs": [],
   "source": [
    "d = 5\n",
    "k = 4\n",
    "ly_list = []\n",
    "\n",
    "for i in range(1000):\n",
    "    rho = get_rho(d,k)\n",
    "    ly, purity = get_ly_pure(rho,d,k) \n",
    "    ly_list.extend(ly)"
   ]
  },
  {
   "cell_type": "code",
   "execution_count": 27,
   "metadata": {},
   "outputs": [
    {
     "name": "stderr",
     "output_type": "stream",
     "text": [
      "/home/stas/anaconda3/lib/python3.7/site-packages/numpy/lib/histograms.py:854: ComplexWarning: Casting complex values to real discards the imaginary part\n",
      "  indices = f_indices.astype(np.intp)\n",
      "/home/stas/anaconda3/lib/python3.7/site-packages/matplotlib/transforms.py:796: ComplexWarning: Casting complex values to real discards the imaginary part\n",
      "  points = np.array(args, dtype=float).reshape(2, 2)\n",
      "/home/stas/anaconda3/lib/python3.7/site-packages/matplotlib/transforms.py:1959: ComplexWarning: Casting complex values to real discards the imaginary part\n",
      "  x, y = float(x), float(y)\n"
     ]
    },
    {
     "data": {
      "text/plain": [
       "[]"
      ]
     },
     "execution_count": 27,
     "metadata": {},
     "output_type": "execute_result"
    },
    {
     "data": {
      "image/png": "[encoded data removed]",
      "text/plain": [
       "<Figure size 432x288 with 1 Axes>"
      ]
     },
     "metadata": {
      "needs_background": "light"
     },
     "output_type": "display_data"
    }
   ],
   "source": [
    "# Построим гистограмму распределения СЗ\n",
    "fig, ax = plt.subplots()\n",
    "ax.set_title('Распределение СЗ')\n",
    "ax.hist(ly_list, bins = 200)\n",
    "plt.plot()"
   ]
  },
  {
   "cell_type": "markdown",
   "metadata": {},
   "source": [
    "Проведём расчёты и построим зависимость Чистоты полученного состояния от размерности вспомогательной подсистемы:"
   ]
  },
  {
   "cell_type": "code",
   "execution_count": 28,
   "metadata": {},
   "outputs": [],
   "source": [
    "d = 5\n",
    "N = 100\n",
    "ly_list = []\n",
    "pure_list = []\n",
    "k_list = []\n",
    "purity_avg = 0\n",
    "\n",
    "p_l = []\n",
    "for k in range(1,100):\n",
    "    for i in range(N):\n",
    "        rho = get_rho(d,k)\n",
    "        ly, purity = get_ly_pure(rho,d,k) \n",
    "        ly_list.extend(ly)\n",
    "        p_l.append(purity)\n",
    "    purity_avg = np.mean(p_l)\n",
    "    p_l = []\n",
    "    k_list.append(k)    \n",
    "    pure_list.append(purity_avg)"
   ]
  },
  {
   "cell_type": "code",
   "execution_count": 29,
   "metadata": {},
   "outputs": [
    {
     "name": "stderr",
     "output_type": "stream",
     "text": [
      "/home/stas/anaconda3/lib/python3.7/site-packages/numpy/core/_asarray.py:85: ComplexWarning: Casting complex values to real discards the imaginary part\n",
      "  return array(a, dtype, copy=False, order=order)\n"
     ]
    },
    {
     "data": {
      "text/plain": [
       "[<matplotlib.lines.Line2D at 0x7fa7b1db5310>]"
      ]
     },
     "execution_count": 29,
     "metadata": {},
     "output_type": "execute_result"
    },
    {
     "data": {
      "image/png": "[encoded data removed]",
      "text/plain": [
       "<Figure size 432x288 with 1 Axes>"
      ]
     },
     "metadata": {
      "needs_background": "light"
     },
     "output_type": "display_data"
    }
   ],
   "source": [
    "plt.plot(k_list, pure_list)"
   ]
  },
  {
   "cell_type": "markdown",
   "metadata": {},
   "source": [
    "# 1.2 Частичный след и разложение Шмидта:"
   ]
  },
  {
   "cell_type": "code",
   "execution_count": 100,
   "metadata": {},
   "outputs": [],
   "source": [
    "class Qstate():\n",
    "    def __init__(self, N = 2):\n",
    "        self.A_dims = []\n",
    "        self.B_dims = []\n",
    "        self.vec = np.zeros(tuple([2]*N))\n",
    "        self.N = N\n",
    "        self.AB_matrix = None\n",
    "        self.rho_AB = None\n",
    "        \n",
    "        \n",
    "    def build_random_state(self): # строит случайное состояние заданной размерности\n",
    "        vec = np.random.randn(*([2]*self.N)) + 1j*np.random.randn(*([2]*self.N))\n",
    "        vec = vec/np.sqrt(np.sum(vec*vec.conj()))\n",
    "        self.vec = vec\n",
    "        \n",
    "    def build_def_state(self):  # строит состояние соответствующее заданному в варианте 5\n",
    "        x = np.zeros((2,2,2,2))\n",
    "        x[[0],[0],[1],[1]] += 3/8\n",
    "        x[[0],[1],[1],[0]] += np.sqrt(6)/8\n",
    "        x[[1],[1],[0],[0]] -= 7/8\n",
    "        self.vec = x\n",
    "        \n",
    "    def split_system(self, a_dims, b_dims, transpose = False): # записывает состояние в виде матрицы, \n",
    "        dim_list = a_dims.copy()            # разделяющей систему на два подпространства\n",
    "        dim_list.extend(b_dims)\n",
    "        self.AB_matrix = np.reshape(self.vec.transpose(dim_list), (2**len(a_dims),2**len(b_dims)), order = 'F')\n",
    "        \n",
    "    def HS_decomposition(self, rho_matrics = False): # Разложение Шмидта по заданным подпространствам\n",
    "        u, s, v = LA.svd(self.AB_matrix.T)\n",
    "        \n",
    "        if rho_matrics == True:\n",
    "            sh0 = self.AB_matrix.shape[1]\n",
    "            sh1 = self.AB_matrix.shape[0]\n",
    "            \n",
    "            sa = np.zeros(sh0)\n",
    "            sb = np.zeros(sh1)\n",
    "            \n",
    "            sh_min = min(sh0,sh1)\n",
    "            \n",
    "            sa[:sh_min] = s[:sh_min]\n",
    "            sb[:sh_min] = s[:sh_min]\n",
    "            \n",
    "        \n",
    "            rho_A_svd = np.dot(u, np.dot(np.diag(sa) ** 2, np.conjugate(u).T))\n",
    "            rho_B_svd = np.dot(np.conjugate(v).T, np.dot(np.diag(sb) ** 2, v)).T\n",
    "            \n",
    "            return rho_A_svd, rho_B_svd, u,s,v\n",
    "        return u, s, v\n",
    "\n",
    "    def Trace_decomposition(self): # Частичный след по заданным подпространствам\n",
    "        sh0 = self.AB_matrix.shape[0]\n",
    "        sh1 = self.AB_matrix.shape[1]\n",
    "        m = np.reshape(self.AB_matrix, [1, sh0, sh1, 1])\n",
    "        dense_m = np.reshape(np.tensordot(m,m, [0,3]), [sh0,sh1,sh0,sh1])\n",
    "        self.rho_AB = dense_m\n",
    "        A_matrix = np.trace(dense_m, axis1 = 0, axis2 = 2)\n",
    "        B_matrix = np.trace(dense_m, axis1 = 1, axis2 = 3)\n",
    "        \n",
    "        return A_matrix, B_matrix\n",
    "        \n",
    "    def get_vec(self): # возвращаем вектор\n",
    "        return self.vec\n",
    "    \n",
    "    def get_AB_matrix(self): # возвращаем матрицу состояния разделяющую на подсистемы AB\n",
    "        return self.AB_matrix\n",
    "    \n",
    "    def get_rho_AB_matrix(self): # возвращаем матрицу состояния разделяющую на подсистемы AB\n",
    "        return self.rho_AB"
   ]
  },
  {
   "cell_type": "code",
   "execution_count": 101,
   "metadata": {},
   "outputs": [
    {
     "name": "stdout",
     "output_type": "stream",
     "text": [
      "[[[[ 0.06683104-0.23376462j  0.03073911-0.18633947j]\n",
      "   [ 0.04463063+0.2508665j  -0.25117953+0.22778634j]]\n",
      "\n",
      "  [[ 0.10090289+0.28494689j -0.02488673-0.34512399j]\n",
      "   [-0.12353943+0.13249587j -0.02570808+0.00691067j]]]\n",
      "\n",
      "\n",
      " [[[ 0.08555988+0.49531481j  0.03528163+0.02327313j]\n",
      "   [-0.17521304-0.02980646j -0.02856386-0.07533685j]]\n",
      "\n",
      "  [[ 0.05154396-0.03751342j  0.36828526+0.06090754j]\n",
      "   [ 0.05958576+0.03225536j  0.18254649-0.08270282j]]]]\n",
      "[[[[ 0.          0.        ]\n",
      "   [ 0.          0.375     ]]\n",
      "\n",
      "  [[ 0.          0.        ]\n",
      "   [ 0.30618622  0.        ]]]\n",
      "\n",
      "\n",
      " [[[ 0.          0.        ]\n",
      "   [ 0.          0.        ]]\n",
      "\n",
      "  [[-0.875       0.        ]\n",
      "   [ 0.          0.        ]]]]\n"
     ]
    }
   ],
   "source": [
    "# зададим рандомное чистое квантовое состояние\n",
    "\n",
    "state = Qstate(N = 4)\n",
    "state.build_random_state()\n",
    "print(state.get_vec())\n",
    "\n",
    "# зададим квантовое состояние из условия (Вариант 5)\n",
    "\n",
    "state.build_def_state()\n",
    "print(state.get_vec())"
   ]
  },
  {
   "cell_type": "code",
   "execution_count": 102,
   "metadata": {},
   "outputs": [
    {
     "data": {
      "text/plain": [
       "array([[ 0.        ,  0.        ],\n",
       "       [ 0.        ,  0.        ],\n",
       "       [ 0.        ,  0.        ],\n",
       "       [-0.875     ,  0.        ],\n",
       "       [ 0.        ,  0.375     ],\n",
       "       [ 0.        ,  0.        ],\n",
       "       [ 0.30618622,  0.        ],\n",
       "       [ 0.        ,  0.        ]])"
      ]
     },
     "execution_count": 102,
     "metadata": {},
     "output_type": "execute_result"
    }
   ],
   "source": [
    "# Запишем состояние в виде матрицы разделяющей состояние на два подпространства по заданным наборам осей\n",
    "\n",
    "state.split_system(a_dims = [0,1,2],b_dims = [3])\n",
    "state.get_AB_matrix()"
   ]
  },
  {
   "cell_type": "code",
   "execution_count": 103,
   "metadata": {},
   "outputs": [
    {
     "name": "stdout",
     "output_type": "stream",
     "text": [
      "SVD разложение:\n",
      "[[1. 0.]\n",
      " [0. 1.]] [0.92702481 0.375     ] [[ 0.          0.          0.         -0.94387981  0.          0.\n",
      "   0.33028913  0.        ]\n",
      " [ 0.          0.          0.          0.          1.          0.\n",
      "   0.          0.        ]\n",
      " [ 0.          0.          1.          0.          0.          0.\n",
      "   0.          0.        ]\n",
      " [ 0.94387981  0.          0.          0.10909091  0.          0.\n",
      "   0.31175324  0.        ]\n",
      " [ 0.         -1.          0.          0.          0.          0.\n",
      "   0.          0.        ]\n",
      " [ 0.          0.          0.          0.          0.          1.\n",
      "   0.          0.        ]\n",
      " [-0.33028913  0.          0.          0.31175324  0.          0.\n",
      "   0.89090909  0.        ]\n",
      " [ 0.          0.          0.          0.          0.          0.\n",
      "   0.          1.        ]]\n",
      "\n",
      "_____________________________________________________________________\n",
      "матрицы плотности подсистем через svd:\n",
      "[[0.859375 0.      ]\n",
      " [0.       0.140625]] [[ 0.          0.          0.          0.          0.          0.\n",
      "   0.          0.        ]\n",
      " [ 0.          0.          0.          0.          0.          0.\n",
      "   0.          0.        ]\n",
      " [ 0.          0.          0.          0.          0.          0.\n",
      "   0.          0.        ]\n",
      " [ 0.          0.          0.          0.765625    0.          0.\n",
      "  -0.26791294  0.        ]\n",
      " [ 0.          0.          0.          0.          0.140625    0.\n",
      "   0.          0.        ]\n",
      " [ 0.          0.          0.          0.          0.          0.\n",
      "   0.          0.        ]\n",
      " [ 0.          0.          0.         -0.26791294  0.          0.\n",
      "   0.09375     0.        ]\n",
      " [ 0.          0.          0.          0.          0.          0.\n",
      "   0.          0.        ]]\n",
      "\n"
     ]
    }
   ],
   "source": [
    "# Проведём svd разложение и получим из него матрицы плотности подсмстем\n",
    "\n",
    "rho_A_svd, rho_B_svd, u, s, v = state.HS_decomposition(rho_matrics = True)\n",
    "print('SVD разложение:')\n",
    "print(u, s, v)\n",
    "print()\n",
    "\n",
    "print(\"_____________________________________________________________________\")\n",
    "print('матрицы плотности подсистем через svd:')\n",
    "print(rho_A_svd, rho_B_svd)\n",
    "print()"
   ]
  },
  {
   "cell_type": "code",
   "execution_count": 104,
   "metadata": {},
   "outputs": [
    {
     "name": "stdout",
     "output_type": "stream",
     "text": [
      "Различие между изначальным состоянием и восстановленным:\n"
     ]
    },
    {
     "data": {
      "text/plain": [
       "array([[0., 0., 0., 0., 0., 0., 0., 0.],\n",
       "       [0., 0., 0., 0., 0., 0., 0., 0.],\n",
       "       [0., 0., 0., 0., 0., 0., 0., 0.],\n",
       "       [0., 0., 0., 0., 0., 0., 0., 0.],\n",
       "       [0., 0., 0., 0., 0., 0., 0., 0.],\n",
       "       [0., 0., 0., 0., 0., 0., 0., 0.],\n",
       "       [0., 0., 0., 0., 0., 0., 0., 0.],\n",
       "       [0., 0., 0., 0., 0., 0., 0., 0.]])"
      ]
     },
     "execution_count": 104,
     "metadata": {},
     "output_type": "execute_result"
    }
   ],
   "source": [
    "# Проверим правильность разложения Шмидта:\n",
    "\n",
    "l = max(len(u),len(v))\n",
    "\n",
    "psi = state.get_AB_matrix().T\n",
    "\n",
    "s_full = np.zeros(l)\n",
    "u_full = np.zeros((l,l))\n",
    "v_full = np.zeros((l,l))\n",
    "init_state = np.zeros((l,l))\n",
    "\n",
    "s_full[:len(s)] = s\n",
    "u_full[:len(u), :len(u)] = u\n",
    "v_full[:len(v),:len(v)] = v\n",
    "init_state[:len(u),:len(v)] = state.get_AB_matrix().T\n",
    "\n",
    "print('Различие между изначальным состоянием и восстановленным:')\n",
    "init_state - np.dot(u_full, np.dot(np.diag(s_full), v_full))"
   ]
  },
  {
   "cell_type": "code",
   "execution_count": 105,
   "metadata": {},
   "outputs": [],
   "source": [
    "# Создадим списки состояний в подсиситмах A и B в базисах, заданных разложением Шмидта:\n",
    "\n",
    "list_vec_A = [u.T[0], u.T[1]]\n",
    "list_vec_B = [v[0], v[1], v[2], v[3], v[4], v[5], v[6], v[7]]"
   ]
  },
  {
   "cell_type": "code",
   "execution_count": 106,
   "metadata": {},
   "outputs": [
    {
     "name": "stdout",
     "output_type": "stream",
     "text": [
      "Различие между изначальным состоянием и восстановленным по СВ и СЗ разложения Шмидта:\n",
      "\n",
      "[[0. 0. 0. 0. 0. 0. 0. 0.]\n",
      " [0. 0. 0. 0. 0. 0. 0. 0.]]\n"
     ]
    }
   ],
   "source": [
    "# Восстановим изначальный вектор из разложения на собственные векторы:\n",
    "\n",
    "psi_new = np.zeros((1, 2, 8, 1))\n",
    "for k in range(len(s)):\n",
    "    psi_a_k = np.reshape(list_vec_A[k], (1, 2, 1))\n",
    "    psi_b_k = np.reshape(list_vec_B[k], (1, 8, 1))\n",
    "    psi_new += s[k] * np.tensordot(psi_a_k, psi_b_k, axes=([2], [0]))\n",
    "psi_new = np.reshape(psi_new, (2, 8))\n",
    "print('Различие между изначальным состоянием и восстановленным по СВ и СЗ разложения Шмидта:')\n",
    "print()\n",
    "print(psi_new - psi)\n"
   ]
  },
  {
   "cell_type": "code",
   "execution_count": 107,
   "metadata": {},
   "outputs": [
    {
     "data": {
      "text/plain": [
       "(array([[0.859375, 0.      ],\n",
       "        [0.      , 0.140625]]),\n",
       " array([[ 0.        ,  0.        ,  0.        ,  0.        ,  0.        ,\n",
       "          0.        ,  0.        ,  0.        ],\n",
       "        [ 0.        ,  0.        ,  0.        ,  0.        ,  0.        ,\n",
       "          0.        ,  0.        ,  0.        ],\n",
       "        [ 0.        ,  0.        ,  0.        ,  0.        ,  0.        ,\n",
       "          0.        ,  0.        ,  0.        ],\n",
       "        [ 0.        ,  0.        ,  0.        ,  0.765625  ,  0.        ,\n",
       "          0.        , -0.26791294,  0.        ],\n",
       "        [ 0.        ,  0.        ,  0.        ,  0.        ,  0.140625  ,\n",
       "          0.        ,  0.        ,  0.        ],\n",
       "        [ 0.        ,  0.        ,  0.        ,  0.        ,  0.        ,\n",
       "          0.        ,  0.        ,  0.        ],\n",
       "        [ 0.        ,  0.        ,  0.        , -0.26791294,  0.        ,\n",
       "          0.        ,  0.09375   ,  0.        ],\n",
       "        [ 0.        ,  0.        ,  0.        ,  0.        ,  0.        ,\n",
       "          0.        ,  0.        ,  0.        ]]))"
      ]
     },
     "execution_count": 107,
     "metadata": {},
     "output_type": "execute_result"
    }
   ],
   "source": [
    "# Получим матрицы плотности систем через взятие частичного следа\n",
    "\n",
    "rho_A_tr, rho_B_tr = state.Trace_decomposition()\n",
    "rho_A_tr, rho_B_tr"
   ]
  },
  {
   "cell_type": "code",
   "execution_count": 108,
   "metadata": {},
   "outputs": [
    {
     "name": "stdout",
     "output_type": "stream",
     "text": [
      "1.249000902703301e-16\n"
     ]
    }
   ],
   "source": [
    "# Сравним матрицы плотности, полученные двумя способами:\n",
    "\n",
    "loss = (np.sum(np.sqrt((rho_A_svd - rho_A_tr)**2))+ np.sum(np.sqrt((rho_B_svd - rho_B_tr)**2)))\n",
    "print(loss)"
   ]
  },
  {
   "cell_type": "code",
   "execution_count": 109,
   "metadata": {},
   "outputs": [
    {
     "name": "stdout",
     "output_type": "stream",
     "text": [
      "K =  1.3187379265936896\n",
      "Norma =  1.0\n"
     ]
    }
   ],
   "source": [
    "# Вычислим число Шмидта для заданного состояния\n",
    "\n",
    "K = 1 / np.sum(s ** 4)\n",
    "print('K = ', K)\n",
    "print('Norma = ', np.sum(s ** 2))"
   ]
  },
  {
   "cell_type": "code",
   "execution_count": 112,
   "metadata": {},
   "outputs": [
    {
     "name": "stdout",
     "output_type": "stream",
     "text": [
      "Negativity системы A:\n",
      "(0.447547686212408-0.035117288979437535j)\n",
      "Negativity системы B:\n",
      "(0.4475476862124084-0.0351172889794374j)\n",
      "Negativity системы AB:\n",
      "(0.7740970943691976-0.20174619844506786j)\n",
      "\n",
      "Заметно, что Negativity подсистем A и B сильно меньше в сравнении с Negativity полной системы\n"
     ]
    },
    {
     "data": {
      "image/png": "[encoded data removed]",
      "text/plain": [
       "<Figure size 432x288 with 1 Axes>"
      ]
     },
     "metadata": {
      "needs_background": "light"
     },
     "output_type": "display_data"
    },
    {
     "data": {
      "image/png": "[encoded data removed]",
      "text/plain": [
       "<Figure size 432x288 with 1 Axes>"
      ]
     },
     "metadata": {
      "needs_background": "light"
     },
     "output_type": "display_data"
    }
   ],
   "source": [
    "# Зададим случайное состояние\n",
    "state = Qstate(N = 4)\n",
    "state.build_random_state()\n",
    "state.split_system(a_dims = [0,1], b_dims = [2,3])\n",
    "\n",
    "# Возьмём частичный след по подпространствам A и B\n",
    "\n",
    "A_matrix, B_matrix = state.Trace_decomposition()\n",
    "\n",
    "# Найдём собственные значения матриц плотности посистем A и B\n",
    "eig_AB = np.linalg.eig(state.get_AB_matrix())[0]\n",
    "eig_A = np.linalg.eig(A_matrix)[0]\n",
    "eig_B = np.linalg.eig(B_matrix)[0]\n",
    "\n",
    "# Посчитаем negativity\n",
    "\n",
    "negativity_AB = 0.5 * np.sum(np.abs(eig_AB) - eig_AB)\n",
    "negativity_A = 0.5 * np.sum(np.abs(eig_A) - eig_A)\n",
    "negativity_B = 0.5 * np.sum(np.abs(eig_B) - eig_B)\n",
    "\n",
    "print('Negativity системы A:')\n",
    "print(negativity_A)\n",
    "print('Negativity системы B:')\n",
    "print(negativity_B)\n",
    "print('Negativity системы AB:')\n",
    "print(negativity_AB)\n",
    "print()\n",
    "print('Заметно, что Negativity подсистем A и B сильно меньше в сравнении с Negativity полной системы')\n",
    "\n",
    "K_list = []\n",
    "Negativity_list = []\n",
    "\n",
    "for i in range(10000):\n",
    "    state = Qstate(N = 4)\n",
    "    state.build_random_state()\n",
    "    state.split_system(a_dims = [0,1], b_dims = [2,3])\n",
    "    \n",
    "    u, s, vh = state.HS_decomposition()\n",
    "    K_list.append(1 / np.sum(s ** 4))\n",
    "    \n",
    "    _,__ = state.Trace_decomposition()\n",
    "\n",
    "    rho_AB = state.get_rho_AB_matrix()\n",
    "    rho_AB_transpose_A = np.transpose(rho_AB, axes=(2, 1, 0, 3))\n",
    "    eig_AB = np.linalg.eig(rho_AB_transpose_A)[0]\n",
    "    \n",
    "#     eig_AB = np.linalg.eig(state.get_AB_matrix())[0]\n",
    "    negativity_AB = 0.5 * np.sum(np.abs(eig_AB) - eig_AB)\n",
    "    Negativity_list.append(negativity_AB)\n",
    "\n",
    "K_list = np.array(list(map(lambda x: x.real, K_list)))\n",
    "Negativity_list = np.array(list(map(lambda x: x.real, Negativity_list)))\n",
    "\n",
    "plt.hist(K_list, bins=50, color='blue', alpha=0.5)\n",
    "plt.xlabel(r'Schmidt number $K$', fontsize=15)\n",
    "plt.ylabel(r'$Frequency$', fontsize=15)\n",
    "plt.show()\n",
    "\n",
    "plt.hist(Negativity_list, bins=50, color='green', alpha=0.5)\n",
    "plt.xlabel(r'$Negativity$', fontsize=15)\n",
    "plt.ylabel(r'$Frequency$', fontsize=15)\n",
    "plt.show()\n"
   ]
  },
  {
   "cell_type": "code",
   "execution_count": null,
   "metadata": {},
   "outputs": [],
   "source": []
  },
  {
   "cell_type": "code",
   "execution_count": null,
   "metadata": {},
   "outputs": [],
   "source": []
  }
 ],
 "metadata": {
  "kernelspec": {
   "display_name": "Python 3",
   "language": "python",
   "name": "python3"
  },
  "language_info": {
   "codemirror_mode": {
    "name": "ipython",
    "version": 3
   },
   "file_extension": ".py",
   "mimetype": "text/x-python",
   "name": "python",
   "nbconvert_exporter": "python",
   "pygments_lexer": "ipython3",
   "version": "3.7.11"
  }
 },
 "nbformat": 4,
 "nbformat_minor": 4
}
