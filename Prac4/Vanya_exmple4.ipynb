{
 "cells": [
  {
   "cell_type": "code",
   "execution_count": 1,
   "metadata": {},
   "outputs": [],
   "source": [
    "import numpy as np\n",
    "import scipy.linalg as la\n",
    "from scipy.integrate import quad\n",
    "import matplotlib.pyplot as plt"
   ]
  },
  {
   "cell_type": "code",
   "execution_count": 2,
   "metadata": {},
   "outputs": [],
   "source": [
    "# Функции для генерации случайных состояний\n",
    "\n",
    "# генерирует чистое состояние\n",
    "def gen_psi(d, k):\n",
    "    c = 2*(np.random.randn(d*k)-0.5) + 2j*(np.random.randn(d*k)-0.5)\n",
    "    c = c/((abs(c)**2).sum()**0.5)\n",
    "    return c\n",
    "\n",
    "# фиделити\n",
    "def F(r, s):\n",
    "    return np.trace(la.sqrtm(la.sqrtm(r)@s@la.sqrtm(r))) ** 2"
   ]
  },
  {
   "cell_type": "markdown",
   "metadata": {},
   "source": [
    "# 1. Случайные ошибки как квантовый процеcс"
   ]
  },
  {
   "cell_type": "code",
   "execution_count": 3,
   "metadata": {},
   "outputs": [],
   "source": [
    "def U(e):\n",
    "    return np.diag([1, 1, np.exp(1j*e*np.pi/8), np.exp(1j*e*np.pi/4)])"
   ]
  },
  {
   "cell_type": "code",
   "execution_count": 4,
   "metadata": {},
   "outputs": [],
   "source": [
    "psi = gen_psi(4, 1)\n",
    "psi_zero = np.zeros(4)\n",
    "psi_zero[0] = 1"
   ]
  },
  {
   "cell_type": "code",
   "execution_count": 5,
   "metadata": {
    "scrolled": true
   },
   "outputs": [],
   "source": [
    "# Создадим функцию для численного эксперимента с выборкой из n реализаций оператора U\n",
    "# Способ генерации e выбирается с помощью функции e_gen\n",
    "def experiment(psi, e_gen, n=1000):\n",
    "    k = 0\n",
    "    es = e_gen(n)\n",
    "    for e in es:\n",
    "        phi = U(e) @ psi\n",
    "        p = abs(psi_zero @ psi)**2\n",
    "        k += np.random.binomial(1, p)\n",
    "    P = k/n\n",
    "    return P"
   ]
  },
  {
   "cell_type": "code",
   "execution_count": 6,
   "metadata": {},
   "outputs": [
    {
     "name": "stdout",
     "output_type": "stream",
     "text": [
      "0.31\n"
     ]
    }
   ],
   "source": [
    "# Получим следующее значение вероятности в одиночном эксперименте\n",
    "print(experiment(psi, lambda x: np.random.normal(-0.1, 0.4, x)))"
   ]
  },
  {
   "cell_type": "code",
   "execution_count": 7,
   "metadata": {},
   "outputs": [],
   "source": [
    "# Повторим эксперимент N раз\n",
    "N = 10000\n",
    "Ps = np.zeros(N)\n",
    "for i in range(N):\n",
    "    Ps[i] = experiment(psi, lambda x: np.random.normal(-0.1, 0.4, x))"
   ]
  },
  {
   "cell_type": "code",
   "execution_count": 8,
   "metadata": {},
   "outputs": [
    {
     "data": {
      "image/png": "[encoded data removed]",
      "text/plain": [
       "<Figure size 432x288 with 1 Axes>"
      ]
     },
     "metadata": {
      "needs_background": "light"
     },
     "output_type": "display_data"
    }
   ],
   "source": [
    "# Изобразим распределение на гистограмме\n",
    "plt.hist(Ps, bins=100)\n",
    "plt.xlabel('P')\n",
    "plt.show()"
   ]
  },
  {
   "cell_type": "code",
   "execution_count": 9,
   "metadata": {},
   "outputs": [],
   "source": [
    "# Повторим N раз эксперимент при нулевой ошибке\n",
    "Ps_0 = np.zeros(N)\n",
    "for i in range(N):\n",
    "    Ps_0[i] = experiment(psi, lambda x: np.zeros(x))"
   ]
  },
  {
   "cell_type": "code",
   "execution_count": 10,
   "metadata": {},
   "outputs": [
    {
     "data": {
      "image/png": "[encoded data removed]",
      "text/plain": [
       "<Figure size 432x288 with 1 Axes>"
      ]
     },
     "metadata": {
      "needs_background": "light"
     },
     "output_type": "display_data"
    }
   ],
   "source": [
    "# Изобразим распределение на гистограмме\n",
    "plt.hist(Ps_0, bins=100)\n",
    "plt.xlabel('P')\n",
    "plt.show()"
   ]
  },
  {
   "cell_type": "code",
   "execution_count": 11,
   "metadata": {},
   "outputs": [
    {
     "data": {
      "image/png": "[encoded data removed]",
      "text/plain": [
       "<Figure size 432x288 with 1 Axes>"
      ]
     },
     "metadata": {
      "needs_background": "light"
     },
     "output_type": "display_data"
    }
   ],
   "source": [
    "# Сравним распределения\n",
    "plt.hist(Ps_0, bins=100, label='e=0')\n",
    "plt.hist(Ps, bins=100, alpha=0.5, color='r', label='normal e')\n",
    "plt.xlabel('P')\n",
    "plt.legend()\n",
    "plt.show()"
   ]
  },
  {
   "cell_type": "code",
   "execution_count": 12,
   "metadata": {},
   "outputs": [],
   "source": [
    "# Создадим функцию плотности нашего распределения\n",
    "def distr(x):\n",
    "    mu = -0.1\n",
    "    sigma = 0.4\n",
    "    return 1/(2*np.pi)**0.5/sigma*np.exp(-(x-mu)**2/2/sigma**2)\n",
    "\n",
    "# Создадим хи-матрицу из матрицы эволюции\n",
    "def chi(x):\n",
    "    U = np.diag([1, 1, np.exp(1j*x*np.pi/8), np.exp(1j*x*np.pi/4)])\n",
    "    e = np.reshape(U, (1, 16), order='F')\n",
    "    chi = np.outer(e,  np.conjugate(e))\n",
    "    return chi"
   ]
  },
  {
   "cell_type": "code",
   "execution_count": 13,
   "metadata": {},
   "outputs": [],
   "source": [
    "# Проинтегрируем хи-матрицу с функцией плотности распределения\n",
    "chi_mean = np.zeros((16, 16), dtype=complex)\n",
    "for i in range(16):\n",
    "    for j in range(16):\n",
    "        chi_mean[i, j] = quad(lambda x: distr(x)*chi(x)[i, j].real, -np.inf, np.inf)[0] +\\\n",
    "                      1j*quad(lambda x: distr(x)*chi(x)[i, j].imag, -np.inf, np.inf)[0]"
   ]
  },
  {
   "cell_type": "code",
   "execution_count": 14,
   "metadata": {},
   "outputs": [
    {
     "name": "stdout",
     "output_type": "stream",
     "text": [
      "[[1.  +0.j   1.  +0.j   0.99+0.04j 0.95+0.07j]\n",
      " [1.  +0.j   1.  +0.j   0.99+0.04j 0.95+0.07j]\n",
      " [0.99-0.04j 0.99-0.04j 1.  +0.j   0.99+0.04j]\n",
      " [0.95-0.07j 0.95-0.07j 0.99-0.04j 1.  +0.j  ]]\n"
     ]
    }
   ],
   "source": [
    "# Выведем ненулевые элементы хи-матрциы\n",
    "print(np.round(np.reshape(chi_mean[np.nonzero(chi_mean)], (4, 4)), 2))"
   ]
  },
  {
   "cell_type": "code",
   "execution_count": 16,
   "metadata": {},
   "outputs": [],
   "source": [
    "# Проведем спектральное разложение для нахождения матрицы e\n",
    "d, u = la.eig(chi_mean)\n",
    "e = u*d**0.5"
   ]
  },
  {
   "cell_type": "code",
   "execution_count": 17,
   "metadata": {},
   "outputs": [],
   "source": [
    "# Из матрицы e вытащим операторы Крауса\n",
    "E = np.zeros(16, dtype=object)\n",
    "for i in range(16):\n",
    "    E[i] = np.reshape(e[:, i], (4, 4), order='F')"
   ]
  },
  {
   "cell_type": "code",
   "execution_count": 18,
   "metadata": {},
   "outputs": [
    {
     "name": "stdout",
     "output_type": "stream",
     "text": [
      "(0.31901308853189714+5.421010862427522e-20j)\n"
     ]
    }
   ],
   "source": [
    "# Найдем выходную матрицу плотности через операторы Краусса\n",
    "rho = np.outer(psi, np.conjugate(psi))\n",
    "rho_out = np.zeros_like(rho)\n",
    "for e_i in E:\n",
    "    rho_out += e_i @ rho @ np.conjugate(e_i).T\n",
    "# Вычислим вероятность исхода |0>\n",
    "P_mean = psi_zero @ rho_out @ psi_zero\n",
    "print(P_mean)"
   ]
  },
  {
   "cell_type": "code",
   "execution_count": 19,
   "metadata": {},
   "outputs": [
    {
     "data": {
      "image/png": "[encoded data removed]",
      "text/plain": [
       "<Figure size 432x288 with 1 Axes>"
      ]
     },
     "metadata": {
      "needs_background": "light"
     },
     "output_type": "display_data"
    }
   ],
   "source": [
    "# Изобразим полученную вероятность вместе с гистограммами\n",
    "# Видно, что она приходится на центр распределения\n",
    "plt.hist(Ps_0, bins=100, label='e=0')\n",
    "plt.hist(Ps, bins=100, alpha=0.5, color='r', label='normal e')\n",
    "plt.bar(P_mean.real, 600, 0.001, color='y', label='mean')\n",
    "plt.xlabel('P')\n",
    "plt.legend()\n",
    "plt.show()"
   ]
  },
  {
   "cell_type": "markdown",
   "metadata": {},
   "source": [
    "# 2. Зашумлённые квантовые схемы"
   ]
  },
  {
   "cell_type": "code",
   "execution_count": 20,
   "metadata": {},
   "outputs": [],
   "source": [
    "n = 5\n",
    "dim = 2**n"
   ]
  },
  {
   "cell_type": "code",
   "execution_count": 21,
   "metadata": {},
   "outputs": [],
   "source": [
    "# Создадим нужные гейты\n",
    "I = np.eye(2)\n",
    "\n",
    "H =1/2**0.5*np.array([[1,  1],\n",
    "                      [1, -1]])\n",
    "\n",
    "X = np.array([[0, 1],\n",
    "              [1, 0]])\n",
    "\n",
    "Toffoli = np.eye(8)\n",
    "Toffoli[-2:, -2:] = X\n",
    "\n",
    "CNOT = Toffoli[-4:, -4:]\n",
    "\n",
    "SWAP = CNOT @ np.kron(H, H) @ CNOT @ np.kron(H, H) @ CNOT\n",
    "\n",
    "# Создадим массив R_k для всех k\n",
    "R = np.zeros(n+2, dtype=object)\n",
    "for k in range(n+2):\n",
    "    R[k] = np.array([[1, 0],\n",
    "                     [0, np.exp(2j*np.pi/2**k)]])\n",
    "    \n",
    "R_conj = np.conjugate(R)"
   ]
  },
  {
   "cell_type": "code",
   "execution_count": 22,
   "metadata": {},
   "outputs": [],
   "source": [
    "# Создадим controlled-R_k \n",
    "CR = np.zeros(n+1, dtype=object)\n",
    "for k in range(n+1):\n",
    "    CR[k] = CNOT @ np.kron(I, R_conj[k+1]) @ CNOT @ np.kron(R[k+1], R[k+1])"
   ]
  },
  {
   "attachments": {
    "image.png": {
     "image/png": "[encoded data removed]"
    }
   },
   "cell_type": "markdown",
   "metadata": {},
   "source": [
    "![image.png](attachment:image.png)"
   ]
  },
  {
   "cell_type": "code",
   "execution_count": 23,
   "metadata": {},
   "outputs": [],
   "source": [
    "# 1-кубитное преобразование\n",
    "def gate_1d(state, U1, k):\n",
    "    dim = state.shape[0]\n",
    "    n = int(np.log2(dim))\n",
    "    b = np.zeros(dim, dtype=complex)\n",
    "    mask = 1 << n-1-k\n",
    "    for ind in range(dim):\n",
    "        for jk in range(2):\n",
    "            b[ind] += state[ind - (ind&mask)+(jk << n-1-k)]*U1[int((ind & mask) != 0), jk]\n",
    "    return b\n",
    "\n",
    "# 2-кубитное преобразование\n",
    "def gate_2d(state, U2, l, k):\n",
    "    dim = state.shape[0]\n",
    "    n = int(np.log2(dim))\n",
    "    b = np.zeros(dim, dtype=complex)\n",
    "    mask_k, mask_l = (1 << n-1-k) , (1 << n-1-l)\n",
    "    mask = mask_k + mask_l\n",
    "    for ind in range(dim):\n",
    "        for jk in range(2):\n",
    "            for jl in range(2):\n",
    "                b[ind] += state[ind - (ind&mask)+(jk << n-1-k)+(jl << n-1-l)]*U2[int((ind & mask_k) != 0) +\\\n",
    "                                                                        (int((ind & mask_l) != 0) << 1), jk+(jl<<1)]\n",
    "    return b"
   ]
  },
  {
   "cell_type": "code",
   "execution_count": 24,
   "metadata": {},
   "outputs": [],
   "source": [
    "# Создадим квантовое преобразование Фурье с ошибкой после Адамара\n",
    "def QFT(state, U, gamma=0):\n",
    "    for i in range(n):\n",
    "        err = np.random.uniform(-gamma, gamma, 1)[0]\n",
    "        state = gate_1d(state, H, i)\n",
    "        state = gate_1d(state, U(err), i)\n",
    "        for k in range(2, n+1-i):\n",
    "            state = gate_2d(state, CR[k], i+k-1, i)\n",
    "    for i in range(int(n/2)):\n",
    "        state = gate_2d(state, SWAP, i, n-1-i)\n",
    "    return state\n"
   ]
  },
  {
   "cell_type": "code",
   "execution_count": 25,
   "metadata": {},
   "outputs": [],
   "source": [
    "# Создадим оператор ошибки\n",
    "def Uerr(e):\n",
    "    delta = -e*np.pi/4\n",
    "    theta =  np.pi/4-e*np.pi/8\n",
    "    phi = np.pi/2\n",
    "    return np.array([[np.cos(delta/2)-1j*np.cos(theta)*np.sin(delta/2), -1j*np.sin(theta)*np.sin(delta/2)*np.exp(-1j*phi)],\n",
    "                     [-1j*np.sin(theta)*np.sin(delta/2)*np.exp(1j*phi), np.cos(delta/2)+1j*np.cos(theta)*np.sin(delta/2)]])\n",
    "\n",
    "def no_err(e):\n",
    "    return I"
   ]
  },
  {
   "cell_type": "code",
   "execution_count": 26,
   "metadata": {},
   "outputs": [],
   "source": [
    "# Сгенерируем чистое состояние\n",
    "psi_ = gen_psi(dim, 1)"
   ]
  },
  {
   "cell_type": "code",
   "execution_count": 27,
   "metadata": {},
   "outputs": [],
   "source": [
    "# Посчитаем фиделити между ошибочным результатом Фурье и правильным для выборки ошибок\n",
    "K = 1000\n",
    "Fs = np.zeros((8, K))\n",
    "gamma = [0, 0.0001, 0.0005, 0.001, 0.005, 0.01, 0.05, 0.1]\n",
    "\n",
    "phi0_ = QFT(psi_, no_err)\n",
    "\n",
    "for i in range(8):\n",
    "    for j in range(K):\n",
    "        phi_ = QFT(psi_, Uerr, gamma[i])\n",
    "        Fs[i, j] = abs(np.conjugate(phi0_) @ phi_)**2\n",
    "        \n",
    "# Усредним результаты по выборке и найдем доверительный интервал\n",
    "Fs_mean = np.mean(Fs, axis=1)\n",
    "Fs_high_q = np.quantile(Fs, 0.75, axis=1)\n",
    "Fs_low_q = np.quantile(Fs, 0.25, axis=1)"
   ]
  },
  {
   "cell_type": "code",
   "execution_count": 28,
   "metadata": {},
   "outputs": [
    {
     "data": {
      "image/png": "[encoded data removed]",
      "text/plain": [
       "<Figure size 432x288 with 1 Axes>"
      ]
     },
     "metadata": {
      "needs_background": "light"
     },
     "output_type": "display_data"
    }
   ],
   "source": [
    "# Изобразим зависимость фиделити от уровня ошибки\n",
    "plt.plot(gamma, Fs_mean, 'o-')\n",
    "plt.fill_between(gamma, Fs_low_q, Fs_high_q, color='r', alpha=0.2)\n",
    "plt.xlabel('gamma')\n",
    "plt.ylabel('F')\n",
    "plt.grid()\n",
    "plt.show()"
   ]
  }
 ],
 "metadata": {
  "kernelspec": {
   "display_name": "Python 3",
   "language": "python",
   "name": "python3"
  },
  "language_info": {
   "codemirror_mode": {
    "name": "ipython",
    "version": 3
   },
   "file_extension": ".py",
   "mimetype": "text/x-python",
   "name": "python",
   "nbconvert_exporter": "python",
   "pygments_lexer": "ipython3",
   "version": "3.7.11"
  }
 },
 "nbformat": 4,
 "nbformat_minor": 4
}
