{
 "cells": [
  {
   "cell_type": "code",
   "execution_count": 119,
   "id": "642321f2",
   "metadata": {},
   "outputs": [],
   "source": [
    "import numpy as np\n",
    "from matplotlib import pyplot as plt\n",
    "from numpy import linalg as LA\n",
    "from scipy import linalg as sLA"
   ]
  },
  {
   "cell_type": "code",
   "execution_count": 120,
   "id": "79c1eb06",
   "metadata": {},
   "outputs": [
    {
     "name": "stdout",
     "output_type": "stream",
     "text": [
      "The autoreload extension is already loaded. To reload it, use:\n",
      "  %reload_ext autoreload\n"
     ]
    }
   ],
   "source": [
    "%load_ext autoreload\n",
    "%autoreload 2"
   ]
  },
  {
   "cell_type": "code",
   "execution_count": 121,
   "id": "b836e461",
   "metadata": {},
   "outputs": [],
   "source": [
    "import sys\n",
    "sys.path.append(\"../scripts\")\n",
    "\n",
    "from State import *\n",
    "from Functions import *\n",
    "from Gates import *"
   ]
  },
  {
   "cell_type": "code",
   "execution_count": 122,
   "id": "05d67c24",
   "metadata": {},
   "outputs": [],
   "source": [
    "# Возвращает вектора состояний подсистем\n",
    "def split_system_rho(rho, na, nb):\n",
    "\n",
    "    d = int(2**na)\n",
    "    k = int(2**nb)\n",
    "\n",
    "    rho = np.reshape(rho, (d,k,d,k))\n",
    "    rho_A = np.trace(rho, axis1=1, axis2=3)\n",
    "    rho_B = np.trace(rho, axis1=0, axis2=2)\n",
    "    \n",
    "    return rho_A, rho_B\n",
    "\n",
    "# Возвращает вектора состояний подсистем\n",
    "def split_system(coefs, na, nb):\n",
    "\n",
    "    d = int(2**na)\n",
    "    k = int(2**nb)\n",
    "\n",
    "    rho = np.outer(coefs, np.conjugate(coefs))\n",
    "    rho = np.reshape(rho, (d,k,d,k))\n",
    "    rho_A = np.trace(rho, axis1=1, axis2=3)\n",
    "    rho_B = np.trace(rho, axis1=0, axis2=2)\n",
    "    \n",
    "    s, v = LA.eig(rho_A)\n",
    "    # B_vec = v[:, 0]\n",
    "    A_coefs = np.dot(v, s)\n",
    "    \n",
    "    s, v = LA.eig(rho_B)\n",
    "    # B_vec = v[:, 0]\n",
    "    B_coefs = np.dot(v, s)\n",
    "    return A_coefs, B_coefs\n",
    "\n",
    "# Возвращает Fidelity\n",
    "def Fidelity(rho1, rho2):\n",
    "    return np.abs(np.trace(sLA.sqrtm(sLA.sqrtm(rho1) @ rho2 @ sLA.sqrtm(rho1))))**2\n",
    "\n",
    "def Fidelity_pure(vec0, vec1):\n",
    "    return np.abs(np.dot(vec0, vec1.conjugate())) ** 2"
   ]
  },
  {
   "cell_type": "code",
   "execution_count": 123,
   "id": "f761da3c",
   "metadata": {},
   "outputs": [
    {
     "name": "stdout",
     "output_type": "stream",
     "text": [
      "[0.57735027+0.j         0.        +0.81649658j] (1.0000000000000002+0j)\n"
     ]
    }
   ],
   "source": [
    "# Заданное состояние\n",
    "coefs0 = 1/np.sqrt(3)*(np.array([1,0]) + 1j*np.sqrt(2)*np.array([0,1]))\n",
    "print(coefs0, coefs0@coefs0.conj())"
   ]
  },
  {
   "cell_type": "markdown",
   "id": "d314607b",
   "metadata": {},
   "source": [
    "$\\qquad$ Зададим схемму кодирующую состояние для коррекции ошибок:\n",
    "\n",
    "<img src=\"Images/code_correction.png\">"
   ]
  },
  {
   "cell_type": "code",
   "execution_count": 124,
   "id": "5ff1eb3a",
   "metadata": {},
   "outputs": [],
   "source": [
    "def code_correction(coefs):\n",
    "    coefs = apply_U(CX(), coefs, [0,1])\n",
    "    coefs = apply_U(CX(), coefs, [0,2])\n",
    "    \n",
    "    coefs = apply_U(H(), coefs, [0])\n",
    "    coefs = apply_U(H(), coefs, [1])\n",
    "    coefs = apply_U(H(), coefs, [2])\n",
    "    return coefs"
   ]
  },
  {
   "cell_type": "markdown",
   "id": "d38e8b22",
   "metadata": {},
   "source": [
    "$\\qquad$ Зададим схемму выявляющую синдром ошибок:\n",
    "\n",
    "<img src=\"Images/syndrom.png\">"
   ]
  },
  {
   "cell_type": "code",
   "execution_count": 125,
   "id": "bb207b9d",
   "metadata": {},
   "outputs": [],
   "source": [
    "def probs_rho(rho):\n",
    "    n = len(rho)\n",
    "    prob_list = []\n",
    "    for i in range(n):\n",
    "        basis_vec = np.zeros(n)\n",
    "        basis_vec[i] = 1\n",
    "        \n",
    "        prob_list.append(np.dot(basis_vec,np.dot(rho,basis_vec)))\n",
    "        \n",
    "    return np.array(prob_list)\n",
    "\n",
    "def probs_vec(coefs):\n",
    "    n = len(coefs)\n",
    "    prob_list = []\n",
    "    for i in range(n):\n",
    "        basis_vec = np.zeros(n)\n",
    "        basis_vec[i] = 1\n",
    "        \n",
    "        prob_list.append(np.dot(rho,basis_vec)**2)\n",
    "        \n",
    "    return np.array(prob_list)\n",
    "        "
   ]
  },
  {
   "cell_type": "code",
   "execution_count": 126,
   "id": "0345798d",
   "metadata": {},
   "outputs": [],
   "source": [
    "def find_syndrom(coefs_list):\n",
    "    \n",
    "    # цикл внутри нужен для применения корневого подхода\n",
    "    # вместо вектора коэффициенов состояния имеем\n",
    "    # на входе лист векторов, по которому пробегаемся в цикле\n",
    "    \n",
    "    coefs_list_new = []\n",
    "    for coefs1 in coefs_list:\n",
    "        coefs = copy.deepcopy(coefs1)\n",
    "        coefs = apply_U(H(), coefs, [0])\n",
    "        coefs = apply_U(H(), coefs, [1])\n",
    "        coefs = apply_U(H(), coefs, [2])\n",
    "\n",
    "        coefs = apply_U(CX(), coefs, [0,3])\n",
    "        coefs = apply_U(CX(), coefs, [1,3])\n",
    "        coefs = apply_U(CX(), coefs, [0,4])\n",
    "        coefs = apply_U(CX(), coefs, [2,4])\n",
    "\n",
    "        coefs = apply_U(H(), coefs, [0])\n",
    "        coefs = apply_U(H(), coefs, [1])\n",
    "        coefs = apply_U(H(), coefs, [2])\n",
    "        coefs_list_new.append(coefs)\n",
    "    \n",
    "    return coefs_list_new\n",
    "        \n",
    "def correct_errors(coefs_list):\n",
    "    coefs_list = np.array(coefs_list)\n",
    "    rho = np.dot(np.conjugate(coefs_list).T, coefs_list)\n",
    "    \n",
    "    rho_A, rho_B = split_system_rho(rho, 3, 2)\n",
    "    probs_list = probs_rho(rho_B)\n",
    "    \n",
    "    corrections_list = [I(N = 3), Z(wire = 0, N = 3), Z(wire = 1, N = 3), Z(wire = 2, N = 3)]\n",
    "    \n",
    "    rho_mean = 0\n",
    "    for i in range(len(probs_list)):\n",
    "        U = corrections_list[i]\n",
    "        rho_mean += probs_list[i]*(np.conjugate(U).T@rho_A@U)\n",
    "        \n",
    "    return rho_mean"
   ]
  },
  {
   "cell_type": "code",
   "execution_count": 127,
   "id": "29b830f8",
   "metadata": {},
   "outputs": [],
   "source": [
    "# Функция коррекцию ошибки целиком в виде квантовой схемы\n",
    "\n",
    "def apply_correction(coefs_list):\n",
    "    \n",
    "    # цикл внутри нужен для применения корневого подхода\n",
    "    # вместо вектора коэффициенов состояния имеем\n",
    "    # на входе лист векторов, по которому пробегаемся в цикле\n",
    "    \n",
    "    coefs_list_new = []\n",
    "    for coefs1 in coefs_list:\n",
    "        coefs = copy.deepcopy(coefs1)\n",
    "        coefs = apply_U(H(), coefs, [0])\n",
    "        coefs = apply_U(H(), coefs, [1])\n",
    "        coefs = apply_U(H(), coefs, [2])\n",
    "\n",
    "        coefs = apply_U(CX(), coefs, [0,3])\n",
    "        coefs = apply_U(CX(), coefs, [1,3])\n",
    "        coefs = apply_U(CX(), coefs, [0,4])\n",
    "        coefs = apply_U(CX(), coefs, [2,4])\n",
    "\n",
    "        coefs = apply_U(H(), coefs, [0])\n",
    "        coefs = apply_U(H(), coefs, [1])\n",
    "        coefs = apply_U(H(), coefs, [2])\n",
    "        \n",
    "\n",
    "        \n",
    "        \n",
    "\n",
    "        # Блок исправления ошибок с помощью CCZ гейтов\n",
    "        # Добавляется фаза на один из 3 кубитов основного \n",
    "        # регистра в зависимости от значений вспомогательных\n",
    "        \n",
    "        coefs = apply_U(H(), coefs, [0])\n",
    "#         state.apply_long_Toffoli([4,3,0])\n",
    "        coefs = apply_U(TOFFOLI(), coefs, [4,3,0])\n",
    "        coefs = apply_U(H(), coefs, [0])\n",
    "\n",
    "        coefs = apply_U(X(), coefs, [4])\n",
    "        coefs = apply_U(H(), coefs, [1])\n",
    "#         state.apply_long_Toffoli([4,3,1])\n",
    "        coefs = apply_U(TOFFOLI(),  coefs, [4,3,1])\n",
    "        coefs = apply_U(H(), coefs, [1])\n",
    "        coefs = apply_U(X(), coefs, [4])\n",
    "\n",
    "        coefs = apply_U(X(), coefs, [3])\n",
    "        coefs = apply_U(H(), coefs, [2])\n",
    "#         state.apply_long_Toffoli([4,3,2])\n",
    "        coefs = apply_U(TOFFOLI(),  coefs, [4,3,2])\n",
    "        coefs = apply_U(H(), coefs, [2])\n",
    "        coefs = apply_U(X(), coefs, [3])\n",
    "        coefs_list_new.append(coefs)\n",
    "\n",
    "    return coefs_list_new"
   ]
  },
  {
   "cell_type": "code",
   "execution_count": 128,
   "id": "5faf4424",
   "metadata": {},
   "outputs": [
    {
     "data": {
      "text/plain": [
       "array([[ 1.00000000e+00+0.j, -2.23711432e-17+0.j,  0.00000000e+00+0.j,\n",
       "         0.00000000e+00+0.j,  0.00000000e+00+0.j,  0.00000000e+00+0.j,\n",
       "         0.00000000e+00+0.j,  0.00000000e+00+0.j],\n",
       "       [-2.23711432e-17+0.j,  1.00000000e+00+0.j,  0.00000000e+00+0.j,\n",
       "         0.00000000e+00+0.j,  0.00000000e+00+0.j,  0.00000000e+00+0.j,\n",
       "         0.00000000e+00+0.j,  0.00000000e+00+0.j],\n",
       "       [ 0.00000000e+00+0.j,  0.00000000e+00+0.j,  1.00000000e+00+0.j,\n",
       "        -2.23711432e-17+0.j,  0.00000000e+00+0.j,  0.00000000e+00+0.j,\n",
       "         0.00000000e+00+0.j,  0.00000000e+00+0.j],\n",
       "       [ 0.00000000e+00+0.j,  0.00000000e+00+0.j, -2.23711432e-17+0.j,\n",
       "         1.00000000e+00+0.j,  0.00000000e+00+0.j,  0.00000000e+00+0.j,\n",
       "         0.00000000e+00+0.j,  0.00000000e+00+0.j],\n",
       "       [ 0.00000000e+00+0.j,  0.00000000e+00+0.j,  0.00000000e+00+0.j,\n",
       "         0.00000000e+00+0.j,  1.00000000e+00+0.j, -2.23711432e-17+0.j,\n",
       "         0.00000000e+00+0.j,  0.00000000e+00+0.j],\n",
       "       [ 0.00000000e+00+0.j,  0.00000000e+00+0.j,  0.00000000e+00+0.j,\n",
       "         0.00000000e+00+0.j, -2.23711432e-17+0.j,  1.00000000e+00+0.j,\n",
       "         0.00000000e+00+0.j,  0.00000000e+00+0.j],\n",
       "       [ 0.00000000e+00+0.j,  0.00000000e+00+0.j,  0.00000000e+00+0.j,\n",
       "         0.00000000e+00+0.j,  0.00000000e+00+0.j,  0.00000000e+00+0.j,\n",
       "         1.00000000e+00+0.j, -2.23711432e-17+0.j],\n",
       "       [ 0.00000000e+00+0.j,  0.00000000e+00+0.j,  0.00000000e+00+0.j,\n",
       "         0.00000000e+00+0.j,  0.00000000e+00+0.j,  0.00000000e+00+0.j,\n",
       "         2.23711432e-17+0.j, -1.00000000e+00+0.j]])"
      ]
     },
     "execution_count": 128,
     "metadata": {},
     "output_type": "execute_result"
    }
   ],
   "source": [
    "# ССZ из TOFFOLI\n",
    "H(0,3)@TOFFOLI()@H(0,3)"
   ]
  },
  {
   "cell_type": "code",
   "execution_count": 129,
   "id": "e451af8d",
   "metadata": {},
   "outputs": [
    {
     "name": "stdout",
     "output_type": "stream",
     "text": [
      "Вектор начального состояния:\n",
      "[(0.5773502691896258+0j), 0j, 0j, 0j, 0j, 0j, 0j, 0j, 0j, 0j, 0j, 0j, 0j, 0j, 0j, 0j, 0.8164965809277261j, 0j, 0j, 0j, 0j, 0j, 0j, 0j, 0j, 0j, 0j, 0j, 0j, 0j, 0j, 0j]\n"
     ]
    }
   ],
   "source": [
    "# Создадим расширенное состояние:\n",
    "\n",
    "# Заданное состояние\n",
    "coefs0 = 1/np.sqrt(3)*(np.array([1,0]) + 1j*np.sqrt(2)*np.array([0,1]))\n",
    "\n",
    "# 4 кубита в 0-ом состоянии\n",
    "coefs1 = np.zeros(2**4) + 1j*np.zeros(2**4)\n",
    "coefs1[0] = 1\n",
    "\n",
    "# Итоговое состояние\n",
    "coefs = np.kron(coefs0, coefs1)\n",
    "cc = copy.deepcopy(coefs)\n",
    "print('Вектор начального состояния:')\n",
    "print(list(coefs))"
   ]
  },
  {
   "cell_type": "code",
   "execution_count": 130,
   "id": "8ff241e4",
   "metadata": {},
   "outputs": [
    {
     "name": "stdout",
     "output_type": "stream",
     "text": [
      "(32, 32)\n",
      "(8, 8) (8, 8)\n",
      "Fidelity между начальным закодированным состоянием и конечным:\n",
      "1.000000033170916\n",
      "Fidelity при ошибке на 0-ом кубите:\n",
      "1.000000037168745\n",
      "Fidelity при ошибке на 1-ом кубите:\n",
      "1.000000037168745\n",
      "Fidelity при ошибке на 2-ом кубите:\n",
      "1.0000000307538073\n"
     ]
    }
   ],
   "source": [
    "# Проверим метод с классическими измерениями при коррекции ошибок\n",
    "\n",
    "coefs = copy.deepcopy(cc)\n",
    "\n",
    "# Запустим код коррекции в отсутствии ошибок и найдём полученное состояние:\n",
    "coefs = code_correction(coefs)\n",
    "rho = np.dot(np.conjugate(np.array([coefs])).T, np.array([coefs]))\n",
    "print(rho.shape)\n",
    "rho_init,_ = split_system_rho(rho, 3, 2)\n",
    "\n",
    "coefs_list = find_syndrom([coefs])\n",
    "rho_clear = correct_errors(coefs_list)\n",
    "\n",
    "\n",
    "# Проверим код коррекции ошибок применяя Z-гейт к произвольному из закодированных кубитов:\n",
    "\n",
    "coefs = copy.deepcopy(cc) # возвращаем коэффициенты в начальное состояние\n",
    "\n",
    "coefs =  code_correction(coefs)\n",
    "coefs = apply_U(Z(), coefs, [0])\n",
    "coefs_list = find_syndrom([coefs])\n",
    "rho_err0 = correct_errors(coefs_list)\n",
    "\n",
    "coefs = copy.deepcopy(cc)\n",
    "\n",
    "coefs = code_correction(coefs)\n",
    "coefs = apply_U(Z(), coefs, [1])\n",
    "coefs_list = find_syndrom([coefs])\n",
    "rho_err1 = correct_errors(coefs_list)\n",
    "\n",
    "coefs = copy.deepcopy(cc)\n",
    "\n",
    "coefs = code_correction(coefs)\n",
    "coefs = apply_U(Z(), coefs, [2])\n",
    "coefs_list = find_syndrom([coefs])\n",
    "rho_err2 = correct_errors(coefs_list)\n",
    "\n",
    "print(rho_clear.shape, rho_init.shape)\n",
    "print('Fidelity между начальным закодированным состоянием и конечным:')\n",
    "print(Fidelity(rho_clear, rho_init))\n",
    "\n",
    "print('Fidelity при ошибке на 0-ом кубите:')\n",
    "print(Fidelity(rho_clear, rho_err0))\n",
    "\n",
    "print('Fidelity при ошибке на 1-ом кубите:')\n",
    "print(Fidelity(rho_clear, rho_err1))\n",
    "\n",
    "print('Fidelity при ошибке на 2-ом кубите:')\n",
    "print(Fidelity(rho_clear, rho_err2))\n"
   ]
  },
  {
   "cell_type": "code",
   "execution_count": 131,
   "id": "150cac8d",
   "metadata": {},
   "outputs": [
    {
     "name": "stdout",
     "output_type": "stream",
     "text": [
      "Fidelity между начальным закодированным состоянием и конечным:\n",
      "0.9999999999999942\n",
      "Fidelity при ошибке на 0-ом кубите:\n",
      "0.9999999999999898\n",
      "Fidelity при ошибке на 1-ом кубите:\n",
      "0.9999999999999898\n",
      "Fidelity при ошибке на 2-ом кубите:\n",
      "0.9999999999999898\n"
     ]
    }
   ],
   "source": [
    "# аналогично проверим полностью квантовую коррекцию ошибок\n",
    "\n",
    "coefs = copy.deepcopy(cc)\n",
    "\n",
    "# Запустим код коррекции в отсутствии ошибок и найдём полученное состояние:\n",
    "coefs = code_correction(coefs)\n",
    "coefs_A_init, _ = split_system(coefs, 3, 2)\n",
    "coefs_list = apply_correction([coefs])\n",
    "\n",
    "coefs_A_clear, _ = split_system(coefs_list, 3, 2)\n",
    "\n",
    "# Проверим код коррекции ошибок применяя Z-гейт к произвольному из закодированных кубитов:\n",
    "\n",
    "coefs = copy.deepcopy(cc) # возвращаем коэффициенты в начальное состояние\n",
    "\n",
    "coefs =  code_correction(coefs)\n",
    "coefs = apply_U(Z(), coefs, [0])\n",
    "coefs_list = apply_correction([coefs])\n",
    "coefs_A_err0, _ = split_system(coefs_list, 3, 2)\n",
    "\n",
    "coefs = copy.deepcopy(cc)\n",
    "\n",
    "coefs = code_correction(coefs)\n",
    "coefs = apply_U(Z(), coefs, [1])\n",
    "coefs_list = apply_correction([coefs])\n",
    "coefs_A_err1, _ = split_system(coefs_list, 3, 2)\n",
    "\n",
    "coefs = copy.deepcopy(cc)\n",
    "\n",
    "coefs = code_correction(coefs)\n",
    "coefs = apply_U(Z(), coefs, [2])\n",
    "coefs_list = apply_correction([coefs])\n",
    "coefs_A_err2, _ = split_system(coefs_list, 3, 2)\n",
    "\n",
    "print('Fidelity между начальным закодированным состоянием и конечным:')\n",
    "print(Fidelity_pure(coefs_A_clear, coefs_A_init))\n",
    "\n",
    "print('Fidelity при ошибке на 0-ом кубите:')\n",
    "print(Fidelity_pure(coefs_A_clear, coefs_A_err0))\n",
    "\n",
    "print('Fidelity при ошибке на 1-ом кубите:')\n",
    "print(Fidelity_pure(coefs_A_clear, coefs_A_err1))\n",
    "\n",
    "print('Fidelity при ошибке на 2-ом кубите:')\n",
    "print(Fidelity_pure(coefs_A_clear, coefs_A_err2))\n"
   ]
  },
  {
   "cell_type": "markdown",
   "id": "e140d94d",
   "metadata": {},
   "source": [
    "Видно, что корректировка ошибок выполняется и более того не изменяет начального состояния"
   ]
  },
  {
   "cell_type": "code",
   "execution_count": 213,
   "id": "95ef27dd",
   "metadata": {},
   "outputs": [],
   "source": [
    "# Возвращает расширенные до размерности 5 кубитов\n",
    "# операторы Краусса, действуюшие на заданный кубит\n",
    "\n",
    "def kraus_list(p, wire, n):\n",
    "    E0 = expand(np.sqrt(1-p)*I(), wire, n)\n",
    "    E1 = expand(np.sqrt(0.9*p)*Z(), wire, n)\n",
    "    E2 = expand(np.sqrt(0.1*p)*T(), wire, n)\n",
    "    return [E0,E1,E2]\n",
    "\n",
    "# применяет приближённый оператор Краусса, пользуясь корневым подходом\n",
    "def apply_kraus(coefs_list, p, wire):\n",
    "    coefs_list_new = []\n",
    "    k_list = kraus_list(p, wire, int(np.log2(len(coefs_list[0]))))\n",
    "    for coefs in coefs_list:\n",
    "        for kraus in k_list:\n",
    "        \n",
    "            coefs_list_new.append(np.dot(kraus, coefs))\n",
    "\n",
    "    return coefs_list_new"
   ]
  },
  {
   "cell_type": "code",
   "execution_count": 214,
   "id": "746e4cff",
   "metadata": {},
   "outputs": [
    {
     "name": "stdout",
     "output_type": "stream",
     "text": [
      "32\n",
      "3\n"
     ]
    }
   ],
   "source": [
    "print(len(coefs))\n",
    "print(len(apply_kraus(np.array([coefs]), 0.8, 1)))"
   ]
  },
  {
   "cell_type": "code",
   "execution_count": 215,
   "id": "819ff70c",
   "metadata": {},
   "outputs": [],
   "source": [
    "# Функция чтобы выводить точность в процессе\n",
    "# реализации преобразований квантовой схемы\n",
    "def show(coefs_list, rho1):\n",
    "    coefs_list = np.array(coefs_list)\n",
    "    rho = np.dot(np.conjugate(coefs_list).T, coefs_list)\n",
    "    rho_A, _ = split_system_rho(rho, 3, 2)\n",
    "    print(Fidelity(rho_A, rho1))"
   ]
  },
  {
   "cell_type": "code",
   "execution_count": 216,
   "id": "4f50d09e",
   "metadata": {},
   "outputs": [],
   "source": [
    "# Функция прменяет канал ошибки \n",
    "# \n",
    "\n",
    "def apply_error(coefs, p, err_correction = False):\n",
    "    \n",
    "    if err_correction == False:\n",
    "        # Найдём выходное сстояние без влияния ошибок состояние\n",
    "        rho = np.outer(np.conjugate(coefs), coefs)\n",
    "        coefs_list_new = apply_kraus(np.array([coefs]), p, 0)\n",
    "        rho_new = np.dot(np.conjugate(coefs_list_new).T, coefs_list_new)\n",
    "        F = Fidelity(rho_new, rho)\n",
    "        \n",
    "    elif err_correction == True:\n",
    "        \n",
    "        coefs1 = np.zeros(2**4) + 1j*np.zeros(2**4)\n",
    "        coefs1[0] = 1\n",
    "\n",
    "        # Найдём итоговое состояние без воздействия ошибки\n",
    "        coefs = np.kron(coefs, coefs1)\n",
    "        cc = copy.deepcopy(coefs)\n",
    "\n",
    "        coefs = code_correction(coefs)\n",
    "        \n",
    "        coefs_list = np.array([coefs])\n",
    "        \n",
    "        coefs_list = apply_correction(coefs_list)\n",
    "\n",
    "        coefs_list = np.array(coefs_list)\n",
    "        rho = np.dot(np.conjugate(coefs_list).T, coefs_list)\n",
    "        rho_A, _ = split_system_rho(rho, 3, 2)\n",
    "       \n",
    "        \n",
    "        \n",
    "        # Найдём итоговое состояние с воздействием ошибки\n",
    "        coefs = copy.deepcopy(cc)\n",
    "        coefs = code_correction(coefs)\n",
    "\n",
    "        coefs_list = apply_kraus(np.array([coefs]), p, wire = 0)\n",
    "        coefs_list = apply_kraus(coefs_list, p, wire = 1)\n",
    "        coefs_list = apply_kraus(coefs_list, p, wire = 2)\n",
    "        \n",
    "        coefs_list = np.array(coefs_list)\n",
    "        \n",
    "        coefs_list = apply_correction(coefs_list)\n",
    "\n",
    "        coefs_list = np.array(coefs_list)\n",
    "        rho_new = np.dot(np.conjugate(coefs_list).T, coefs_list)\n",
    "        rho_A_new, _ = split_system_rho(rho_new, 3, 2)\n",
    "        \n",
    "\n",
    "        \n",
    "        \n",
    "        F = Fidelity(rho_A, rho_A_new)\n",
    "        \n",
    "    return F\n",
    "        \n"
   ]
  },
  {
   "cell_type": "code",
   "execution_count": 217,
   "id": "5badeff7",
   "metadata": {},
   "outputs": [],
   "source": [
    "# Функция прменяет канал ошибки \n",
    "# \n",
    "\n",
    "def apply_error(coefs, p, err_correction = False):\n",
    "    \n",
    "    if err_correction == False:\n",
    "        # Найдём выходное сстояние без влияния ошибок состояние\n",
    "        rho = np.outer(np.conjugate(coefs), coefs)\n",
    "        coefs_list_new = apply_kraus(np.array([coefs]), p, 0)\n",
    "        rho_new = np.dot(np.conjugate(coefs_list_new).T, coefs_list_new)\n",
    "        F = Fidelity(rho_new, rho)\n",
    "        \n",
    "    elif err_correction == True:\n",
    "        \n",
    "        coefs1 = np.zeros(2**4) + 1j*np.zeros(2**4)\n",
    "        coefs1[0] = 1\n",
    "\n",
    "        # Найдём итоговое состояние без воздействия ошибки\n",
    "        coefs = np.kron(coefs, coefs1)\n",
    "        cc = copy.deepcopy(coefs)\n",
    "        \n",
    "        \n",
    "        coefs = code_correction(coefs)\n",
    "        coefs_list = np.array([coefs])\n",
    "        \n",
    "        coefs_list = find_syndrom(coefs_list)\n",
    "        rho_clear = correct_errors(coefs_list)\n",
    "        \n",
    "        # Найдём итоговое состояние с воздействием ошибки\n",
    "        coefs = copy.deepcopy(cc)\n",
    "        coefs = code_correction(coefs)\n",
    "\n",
    "        coefs_list = apply_kraus(np.array([coefs]), p, wire = 0)\n",
    "        coefs_list = apply_kraus(coefs_list, p, wire = 1)\n",
    "        coefs_list = apply_kraus(coefs_list, p, wire = 2)\n",
    "        \n",
    "        coefs_list = np.array(coefs_list)\n",
    "        \n",
    "        coefs_list = find_syndrom(coefs_list)\n",
    "        rho_new = correct_errors(coefs_list)\n",
    "        \n",
    "\n",
    "        \n",
    "        \n",
    "        F = Fidelity(rho_clear, rho_new)\n",
    "        \n",
    "    return F\n",
    "        \n"
   ]
  },
  {
   "cell_type": "code",
   "execution_count": 221,
   "id": "9dcba0db",
   "metadata": {},
   "outputs": [
    {
     "data": {
      "text/plain": [
       "(0.8373965164860067, 0.7010681467821595)"
      ]
     },
     "execution_count": 221,
     "metadata": {},
     "output_type": "execute_result"
    }
   ],
   "source": [
    "coefs0 = 1/np.sqrt(3)*(np.array([1,0]) + 1j*np.sqrt(2)*np.array([0,1]))\n",
    "p = 0.2\n",
    "f1 = apply_error(coefs0, p = p, err_correction = True)\n",
    "f2 = apply_error(coefs0, p = p, err_correction = False)\n",
    "f1, f2"
   ]
  },
  {
   "cell_type": "code",
   "execution_count": 251,
   "id": "d5699513",
   "metadata": {},
   "outputs": [],
   "source": [
    "coefs0 = 1/np.sqrt(3)*(np.array([1,0]) + 1j*np.sqrt(2)*np.array([0,1]))\n",
    "\n",
    "p_list = np.linspace(0,0.7, 100)\n",
    "F_list = []\n",
    "F_corr_list = []\n",
    "\n",
    "for p in p_list:\n",
    "    F = apply_error(coefs0, p = p, err_correction = False)\n",
    "#     print(F)\n",
    "    F_list.append(F)\n",
    "    \n",
    "    F_corr = apply_error(coefs0, p = p, err_correction = True)\n",
    "    F_corr_list.append(F_corr)\n",
    "    \n",
    "F_corr_list = np.array(F_corr_list)\n",
    "F_no_corr_list = np.array(F_list)"
   ]
  },
  {
   "cell_type": "code",
   "execution_count": 267,
   "id": "d18a3873",
   "metadata": {},
   "outputs": [
    {
     "data": {
      "image/png": "[encoded data removed]",
      "text/plain": [
       "<Figure size 576x432 with 1 Axes>"
      ]
     },
     "metadata": {
      "needs_background": "light"
     },
     "output_type": "display_data"
    }
   ],
   "source": [
    "fig, ax = plt.subplots(figsize = (8,6))\n",
    "ax.set_title(f'Зависимость Fidelity от вероятности ошибки', fontsize = 14)\n",
    "ax.plot(p_list, F_no_сorr_list, label = r'Без кда коррекции', linewidth = 4)\n",
    "ax.plot(p_list,F_corr_list, label = r'Код коррекции', linewidth = 3)\n",
    "\n",
    "plt.grid()\n",
    "plt.xlabel(r'Вероятность ошибки', fontsize = 14)\n",
    "plt.ylabel(r' Fidelity $F(\\psi_{init}, \\psi_{final} )$', fontsize = 14)\n",
    "plt.legend()\n",
    "plt.show()\n"
   ]
  },
  {
   "cell_type": "code",
   "execution_count": 273,
   "id": "efa37dbf",
   "metadata": {},
   "outputs": [
    {
     "name": "stdout",
     "output_type": "stream",
     "text": [
      "Максимальная вероятность ошибки, \n",
      " когда код коррекции ещё применим 0.47373737373737373\n"
     ]
    }
   ],
   "source": [
    "for F,Fc,p in zip(F_no_сorr_list, F_corr_list, p_list):\n",
    "    if F>Fc:\n",
    "        print('Максимальная вероятность ошибки, \\n когда код коррекции ещё применим', p)\n",
    "        break\n",
    "    "
   ]
  },
  {
   "cell_type": "code",
   "execution_count": null,
   "id": "b23a8284",
   "metadata": {},
   "outputs": [],
   "source": []
  }
 ],
 "metadata": {
  "kernelspec": {
   "display_name": "Python 3",
   "language": "python",
   "name": "python3"
  },
  "language_info": {
   "codemirror_mode": {
    "name": "ipython",
    "version": 3
   },
   "file_extension": ".py",
   "mimetype": "text/x-python",
   "name": "python",
   "nbconvert_exporter": "python",
   "pygments_lexer": "ipython3",
   "version": "3.7.11"
  }
 },
 "nbformat": 4,
 "nbformat_minor": 5
}
