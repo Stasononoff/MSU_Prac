{
 "cells": [
  {
   "cell_type": "code",
   "execution_count": 3,
   "id": "6ad3381e",
   "metadata": {},
   "outputs": [],
   "source": [
    "import numpy as np\n",
    "import pandas as pd\n",
    "from matplotlib import pyplot as plt\n",
    "from numpy import linalg as LA\n",
    "from scipy import linalg as sLA\n",
    "import time\n",
    "from scipy.interpolate import interp1d\n",
    "\n",
    "import sys\n",
    "sys.path.append(\"../scripts\")\n",
    "\n",
    "\n",
    "from Gates import *\n",
    "from functions import *\n",
    "from state import *\n",
    "\n",
    "d = 2"
   ]
  },
  {
   "cell_type": "code",
   "execution_count": 4,
   "id": "aa09d2a3",
   "metadata": {},
   "outputs": [
    {
     "name": "stdout",
     "output_type": "stream",
     "text": [
      "The autoreload extension is already loaded. To reload it, use:\n",
      "  %reload_ext autoreload\n"
     ]
    }
   ],
   "source": [
    "%load_ext autoreload\n",
    "%autoreload 2"
   ]
  },
  {
   "cell_type": "code",
   "execution_count": 33,
   "id": "a32a3ded",
   "metadata": {},
   "outputs": [],
   "source": [
    "df = pd.read_csv('ibmq_manila_calibrations.csv')"
   ]
  },
  {
   "cell_type": "code",
   "execution_count": 34,
   "id": "83f03c35",
   "metadata": {},
   "outputs": [
    {
     "data": {
      "text/html": [
       "<div>\n",
       "<style scoped>\n",
       "    .dataframe tbody tr th:only-of-type {\n",
       "        vertical-align: middle;\n",
       "    }\n",
       "\n",
       "    .dataframe tbody tr th {\n",
       "        vertical-align: top;\n",
       "    }\n",
       "\n",
       "    .dataframe thead th {\n",
       "        text-align: right;\n",
       "    }\n",
       "</style>\n",
       "<table border=\"1\" class=\"dataframe\">\n",
       "  <thead>\n",
       "    <tr style=\"text-align: right;\">\n",
       "      <th></th>\n",
       "      <th>Qubit</th>\n",
       "      <th>T1 (us)</th>\n",
       "      <th>T2 (us)</th>\n",
       "      <th>Frequency (GHz)</th>\n",
       "      <th>Anharmonicity (GHz)</th>\n",
       "      <th>Readout assignment error</th>\n",
       "      <th>Prob meas0 prep1</th>\n",
       "      <th>Prob meas1 prep0</th>\n",
       "      <th>Readout length (ns)</th>\n",
       "      <th>ID error</th>\n",
       "      <th>√x (sx) error</th>\n",
       "      <th>Single-qubit Pauli-X error</th>\n",
       "      <th>CNOT error</th>\n",
       "      <th>Gate time (ns)</th>\n",
       "    </tr>\n",
       "  </thead>\n",
       "  <tbody>\n",
       "    <tr>\n",
       "      <th>0</th>\n",
       "      <td>Q0</td>\n",
       "      <td>194.97</td>\n",
       "      <td>107.35</td>\n",
       "      <td>4.963</td>\n",
       "      <td>-0.34335</td>\n",
       "      <td>0.0196</td>\n",
       "      <td>0.0286</td>\n",
       "      <td>0.0106</td>\n",
       "      <td>5351.111</td>\n",
       "      <td>0.000167</td>\n",
       "      <td>0.000167</td>\n",
       "      <td>0.000167</td>\n",
       "      <td>0_1:7.148e-3</td>\n",
       "      <td>0_1:277.333</td>\n",
       "    </tr>\n",
       "    <tr>\n",
       "      <th>1</th>\n",
       "      <td>Q1</td>\n",
       "      <td>181.75</td>\n",
       "      <td>64.18</td>\n",
       "      <td>4.838</td>\n",
       "      <td>-0.34621</td>\n",
       "      <td>0.0335</td>\n",
       "      <td>0.0350</td>\n",
       "      <td>0.0320</td>\n",
       "      <td>5351.111</td>\n",
       "      <td>0.000225</td>\n",
       "      <td>0.000225</td>\n",
       "      <td>0.000225</td>\n",
       "      <td>1_0:7.148e-3; 1_2:1.618e-2</td>\n",
       "      <td>1_0:312.889; 1_2:469.333</td>\n",
       "    </tr>\n",
       "    <tr>\n",
       "      <th>2</th>\n",
       "      <td>Q2</td>\n",
       "      <td>141.08</td>\n",
       "      <td>22.98</td>\n",
       "      <td>5.037</td>\n",
       "      <td>-0.34366</td>\n",
       "      <td>0.1225</td>\n",
       "      <td>0.1110</td>\n",
       "      <td>0.1340</td>\n",
       "      <td>5351.111</td>\n",
       "      <td>0.000445</td>\n",
       "      <td>0.000445</td>\n",
       "      <td>0.000445</td>\n",
       "      <td>2_1:1.618e-2; 2_3:9.083e-3</td>\n",
       "      <td>2_1:504.889; 2_3:355.556</td>\n",
       "    </tr>\n",
       "    <tr>\n",
       "      <th>3</th>\n",
       "      <td>Q3</td>\n",
       "      <td>213.81</td>\n",
       "      <td>60.86</td>\n",
       "      <td>4.951</td>\n",
       "      <td>-0.34355</td>\n",
       "      <td>0.0188</td>\n",
       "      <td>0.0288</td>\n",
       "      <td>0.0088</td>\n",
       "      <td>5351.111</td>\n",
       "      <td>0.000222</td>\n",
       "      <td>0.000222</td>\n",
       "      <td>0.000222</td>\n",
       "      <td>3_4:6.628e-3; 3_2:9.083e-3</td>\n",
       "      <td>3_4:334.222; 3_2:391.111</td>\n",
       "    </tr>\n",
       "    <tr>\n",
       "      <th>4</th>\n",
       "      <td>Q4</td>\n",
       "      <td>83.40</td>\n",
       "      <td>33.42</td>\n",
       "      <td>5.066</td>\n",
       "      <td>-0.34211</td>\n",
       "      <td>0.0296</td>\n",
       "      <td>0.0450</td>\n",
       "      <td>0.0142</td>\n",
       "      <td>5351.111</td>\n",
       "      <td>0.000433</td>\n",
       "      <td>0.000433</td>\n",
       "      <td>0.000433</td>\n",
       "      <td>4_3:6.628e-3</td>\n",
       "      <td>4_3:298.667</td>\n",
       "    </tr>\n",
       "  </tbody>\n",
       "</table>\n",
       "</div>"
      ],
      "text/plain": [
       "  Qubit  T1 (us)  T2 (us)  Frequency (GHz)  Anharmonicity (GHz)  \\\n",
       "0    Q0   194.97   107.35            4.963             -0.34335   \n",
       "1    Q1   181.75    64.18            4.838             -0.34621   \n",
       "2    Q2   141.08    22.98            5.037             -0.34366   \n",
       "3    Q3   213.81    60.86            4.951             -0.34355   \n",
       "4    Q4    83.40    33.42            5.066             -0.34211   \n",
       "\n",
       "   Readout assignment error   Prob meas0 prep1   Prob meas1 prep0   \\\n",
       "0                     0.0196             0.0286             0.0106   \n",
       "1                     0.0335             0.0350             0.0320   \n",
       "2                     0.1225             0.1110             0.1340   \n",
       "3                     0.0188             0.0288             0.0088   \n",
       "4                     0.0296             0.0450             0.0142   \n",
       "\n",
       "   Readout length (ns)  ID error   √x (sx) error   \\\n",
       "0             5351.111   0.000167        0.000167   \n",
       "1             5351.111   0.000225        0.000225   \n",
       "2             5351.111   0.000445        0.000445   \n",
       "3             5351.111   0.000222        0.000222   \n",
       "4             5351.111   0.000433        0.000433   \n",
       "\n",
       "   Single-qubit Pauli-X error                  CNOT error   \\\n",
       "0                     0.000167                0_1:7.148e-3   \n",
       "1                     0.000225  1_0:7.148e-3; 1_2:1.618e-2   \n",
       "2                     0.000445  2_1:1.618e-2; 2_3:9.083e-3   \n",
       "3                     0.000222  3_4:6.628e-3; 3_2:9.083e-3   \n",
       "4                     0.000433                4_3:6.628e-3   \n",
       "\n",
       "             Gate time (ns)  \n",
       "0               0_1:277.333  \n",
       "1  1_0:312.889; 1_2:469.333  \n",
       "2  2_1:504.889; 2_3:355.556  \n",
       "3  3_4:334.222; 3_2:391.111  \n",
       "4               4_3:298.667  "
      ]
     },
     "execution_count": 34,
     "metadata": {},
     "output_type": "execute_result"
    }
   ],
   "source": [
    "df"
   ]
  },
  {
   "cell_type": "code",
   "execution_count": 35,
   "id": "90f52caa",
   "metadata": {},
   "outputs": [
    {
     "data": {
      "text/plain": [
       "Index(['Qubit', 'T1 (us)', 'T2 (us)', 'Frequency (GHz)', 'Anharmonicity (GHz)',\n",
       "       'Readout assignment error ', 'Prob meas0 prep1 ', 'Prob meas1 prep0 ',\n",
       "       'Readout length (ns)', 'ID error ', '√x (sx) error ',\n",
       "       'Single-qubit Pauli-X error ', 'CNOT error ', 'Gate time (ns)'],\n",
       "      dtype='object')"
      ]
     },
     "execution_count": 35,
     "metadata": {},
     "output_type": "execute_result"
    }
   ],
   "source": [
    "df.columns"
   ]
  },
  {
   "cell_type": "code",
   "execution_count": 36,
   "id": "49265fb9",
   "metadata": {},
   "outputs": [
    {
     "data": {
      "text/plain": [
       "(array([0.0001666, 0.0002249, 0.0004453, 0.0002217, 0.0004328]),\n",
       " array(['0_1:7.148e-3', '1_0:7.148e-3; 1_2:1.618e-2',\n",
       "        '2_1:1.618e-2; 2_3:9.083e-3', '3_4:6.628e-3; 3_2:9.083e-3',\n",
       "        '4_3:6.628e-3'], dtype=object),\n",
       " array([0.0196, 0.0335, 0.1225, 0.0188, 0.0296]))"
      ]
     },
     "execution_count": 36,
     "metadata": {},
     "output_type": "execute_result"
    }
   ],
   "source": [
    "# Достанем ошибки \n",
    "\n",
    "q1_err = df['Single-qubit Pauli-X error '].values\n",
    "q2_err = df['CNOT error '].values\n",
    "r_err = df['Readout assignment error '].values\n",
    "\n",
    "q1_err, q2_err, r_err"
   ]
  },
  {
   "cell_type": "code",
   "execution_count": 37,
   "id": "42d42866",
   "metadata": {},
   "outputs": [
    {
     "data": {
      "text/plain": [
       "{('0', '1'): 0.007148,\n",
       " ('1', '0'): 0.007148,\n",
       " ('1', '2'): 0.01618,\n",
       " ('2', '1'): 0.01618,\n",
       " ('2', '3'): 0.009083,\n",
       " ('3', '4'): 0.006628,\n",
       " ('3', '2'): 0.009083,\n",
       " ('4', '3'): 0.006628}"
      ]
     },
     "execution_count": 37,
     "metadata": {},
     "output_type": "execute_result"
    }
   ],
   "source": [
    "# Распарсим двухкубитные ошибки:\n",
    "\n",
    "q2_err_dict = {}\n",
    "for q2_full in q2_err:\n",
    "    for q2 in q2_full.split('; '):\n",
    "        inds, val = q2.split(':')\n",
    "        val = float(val)\n",
    "        ind = tuple(inds.split('_'))\n",
    "        q2_err_dict.update({ind:val})\n",
    "\n",
    "q2_err_dict    "
   ]
  },
  {
   "cell_type": "code",
   "execution_count": 45,
   "id": "b50dc707",
   "metadata": {},
   "outputs": [
    {
     "data": {
      "text/plain": [
       "({('0', '1'): 0.007624533333333333,\n",
       "  ('1', '0'): 0.007624533333333333,\n",
       "  ('1', '2'): 0.017258666666666665,\n",
       "  ('2', '1'): 0.017258666666666665,\n",
       "  ('2', '3'): 0.009688533333333334,\n",
       "  ('3', '4'): 0.0070698666666666665,\n",
       "  ('3', '2'): 0.009688533333333334,\n",
       "  ('4', '3'): 0.0070698666666666665},\n",
       " array([0.00022213, 0.00029987, 0.00059373, 0.0002956 , 0.00057707]),\n",
       " array([0.0196, 0.0335, 0.1225, 0.0188, 0.0296]))"
      ]
     },
     "execution_count": 45,
     "metadata": {},
     "output_type": "execute_result"
    }
   ],
   "source": [
    "# переведём ошибки в коэффициенты для операторов Краусса:\n",
    "\n",
    "q2_p = dict((key, val*16/15) for key, val in q2_err_dict.items())\n",
    "q1_p = q1_err*4/3\n",
    "r_p = r_err\n",
    "\n",
    "q2_p, q1_p, r_p "
   ]
  },
  {
   "cell_type": "code",
   "execution_count": 48,
   "id": "682e900b",
   "metadata": {},
   "outputs": [
    {
     "data": {
      "text/plain": [
       "[array([[0.49983337+0.j, 0.        +0.j],\n",
       "        [0.        +0.j, 0.49983337+0.j]]),\n",
       " array([[0.        +0.j, 0.00745207+0.j],\n",
       "        [0.00745207+0.j, 0.        +0.j]]),\n",
       " array([[0.+0.j        , 0.-0.00745207j],\n",
       "        [0.+0.00745207j, 0.+0.j        ]]),\n",
       " array([[ 0.00745207+0.j,  0.        +0.j],\n",
       "        [ 0.        +0.j, -0.00745207+0.j]])]"
      ]
     },
     "execution_count": 48,
     "metadata": {},
     "output_type": "execute_result"
    }
   ],
   "source": [
    "def build_Kraus(p):\n",
    "\n",
    "    kraus_list = [\n",
    "        np.sqrt(1 - 3*p)/2*I(),\n",
    "        np.sqrt(p)/2*X(),\n",
    "        np.sqrt(p)/2*Y(),\n",
    "        np.sqrt(p)/2*Z(),      \n",
    "    ]\n",
    "    return kraus_list\n",
    "\n",
    "p = q1_p[0]\n",
    "kraus_list = build_Kraus(p)\n",
    "kraus_list"
   ]
  },
  {
   "cell_type": "code",
   "execution_count": null,
   "id": "d328e8a9",
   "metadata": {},
   "outputs": [],
   "source": [
    "def unitary_evolution(rho0, dt,t0 = 0, t1 = 0.5):\n",
    "    t_list = []\n",
    "    U_list = []\n",
    "    rho_list = []\n",
    "    F_list = []\n",
    "\n",
    "    \n",
    "    rho = rho0.copy()\n",
    "    rho_list.append(rho)\n",
    "    F_list.append(F(rho, rho))\n",
    "    t_list.append(t0)\n",
    "\n",
    "    t = t0\n",
    "    \n",
    "\n",
    "\n",
    "    while t <= t1:\n",
    "        U_list.append(U(t,dt))\n",
    "        t += dt\n",
    "        print\n",
    "        rho = np.dot(np.dot(U_list[-1],rho), U_list[-1].conj().T)\n",
    "        list_kraus = get_list_kraus(dt)\n",
    "        rho_new = np.zeros((2, 2), dtype=complex)\n",
    "        for kraus in list_kraus:\n",
    "            rho_new += kraus @ rho @ kraus.T.conjugate()\n",
    "        rho = rho_new\n",
    "        t_list.append(t)\n",
    "        rho_list.append(rho)\n",
    "        F_list.append(F(rho, rho0))\n",
    "        \n",
    "    return t_list, F_list"
   ]
  }
 ],
 "metadata": {
  "kernelspec": {
   "display_name": "Python 3",
   "language": "python",
   "name": "python3"
  },
  "language_info": {
   "codemirror_mode": {
    "name": "ipython",
    "version": 3
   },
   "file_extension": ".py",
   "mimetype": "text/x-python",
   "name": "python",
   "nbconvert_exporter": "python",
   "pygments_lexer": "ipython3",
   "version": "3.7.11"
  }
 },
 "nbformat": 4,
 "nbformat_minor": 5
}
